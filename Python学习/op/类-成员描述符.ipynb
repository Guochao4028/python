{
 "cells": [
  {
   "cell_type": "code",
   "execution_count": 4,
   "metadata": {},
   "outputs": [
    {
     "name": "stdout",
     "output_type": "stream",
     "text": [
      "nb\n"
     ]
    }
   ],
   "source": [
    "#变量的三种用法\n",
    "class A():\n",
    "    def __init__(self):\n",
    "        self.name = None\n",
    "        self.age = 19\n",
    "a = A()\n",
    "#属性的三种用法\n",
    "# 1，赋值\n",
    "#2，读取\n",
    "#3，删除\n",
    "a.name = \"nb\"\n",
    "print(a.name)\n",
    "# del a.name\n",
    "# print(a.name)\n"
   ]
  },
  {
   "cell_type": "code",
   "execution_count": 2,
   "metadata": {},
   "outputs": [
    {
     "name": "stdout",
     "output_type": "stream",
     "text": [
      "af123\n",
      "af123\n"
     ]
    }
   ],
   "source": [
    "#类属性 property\n",
    "#应用场景\n",
    "class A():\n",
    "    def __init__(self):\n",
    "        self.name = None\n",
    "        self.age = 19\n",
    "    def fget(self):\n",
    "        return self.name\n",
    "    def fset(self, name):\n",
    "        self.name = name+\"123\"\n",
    "    def fdel(self):\n",
    "        pass\n",
    "    name2 = property(fget, fset, fdel, \"赋值操作\")\n",
    "a = A()\n",
    "a.name2 = \"af\"\n",
    "print(a.name)\n",
    "print(a.name2)\n",
    "    \n",
    "    "
   ]
  },
  {
   "cell_type": "code",
   "execution_count": 4,
   "metadata": {},
   "outputs": [
    {
     "name": "stdout",
     "output_type": "stream",
     "text": [
      "吻\n",
      "亲\n"
     ]
    }
   ],
   "source": [
    "# 抽象\n",
    "class Ab():\n",
    "    def sayHello(self):\n",
    "        pass\n",
    "class Dog(Ab):\n",
    "    def sayHello(self):\n",
    "        print(\"吻\")\n",
    "class Person(Ab):\n",
    "    def sayHello(self):\n",
    "        print(\"亲\")\n",
    "d = Dog()\n",
    "d.sayHello()\n",
    "\n",
    "p = Person()\n",
    "p.sayHello()\n",
    "    "
   ]
  },
  {
   "cell_type": "code",
   "execution_count": 6,
   "metadata": {},
   "outputs": [
    {
     "ename": "AttributeError",
     "evalue": "module 'abc' has no attribute 'abcstractmethod'",
     "output_type": "error",
     "traceback": [
      "\u001b[1;31m---------------------------------------------------------------------------\u001b[0m",
      "\u001b[1;31mAttributeError\u001b[0m                            Traceback (most recent call last)",
      "\u001b[1;32m<ipython-input-6-62ece9a1011b>\u001b[0m in \u001b[0;36m<module>\u001b[1;34m\u001b[0m\n\u001b[0;32m      2\u001b[0m \u001b[1;32mimport\u001b[0m \u001b[0mabc\u001b[0m\u001b[1;33m\u001b[0m\u001b[1;33m\u001b[0m\u001b[0m\n\u001b[0;32m      3\u001b[0m \u001b[1;31m#声明一个类且指定当前类的元类\u001b[0m\u001b[1;33m\u001b[0m\u001b[1;33m\u001b[0m\u001b[1;33m\u001b[0m\u001b[0m\n\u001b[1;32m----> 4\u001b[1;33m \u001b[1;32mclass\u001b[0m \u001b[0mHuman\u001b[0m\u001b[1;33m(\u001b[0m\u001b[0mmetaclass\u001b[0m\u001b[1;33m=\u001b[0m\u001b[0mabc\u001b[0m\u001b[1;33m.\u001b[0m\u001b[0mABCMeta\u001b[0m\u001b[1;33m)\u001b[0m\u001b[1;33m:\u001b[0m\u001b[1;33m\u001b[0m\u001b[1;33m\u001b[0m\u001b[0m\n\u001b[0m\u001b[0;32m      5\u001b[0m     \u001b[1;31m#定义一个抽象方法\u001b[0m\u001b[1;33m\u001b[0m\u001b[1;33m\u001b[0m\u001b[1;33m\u001b[0m\u001b[0m\n\u001b[0;32m      6\u001b[0m     \u001b[1;33m@\u001b[0m\u001b[0mabc\u001b[0m\u001b[1;33m.\u001b[0m\u001b[0mabcstractmethod\u001b[0m\u001b[1;33m\u001b[0m\u001b[1;33m\u001b[0m\u001b[0m\n",
      "\u001b[1;32m<ipython-input-6-62ece9a1011b>\u001b[0m in \u001b[0;36mHuman\u001b[1;34m()\u001b[0m\n\u001b[0;32m      4\u001b[0m \u001b[1;32mclass\u001b[0m \u001b[0mHuman\u001b[0m\u001b[1;33m(\u001b[0m\u001b[0mmetaclass\u001b[0m\u001b[1;33m=\u001b[0m\u001b[0mabc\u001b[0m\u001b[1;33m.\u001b[0m\u001b[0mABCMeta\u001b[0m\u001b[1;33m)\u001b[0m\u001b[1;33m:\u001b[0m\u001b[1;33m\u001b[0m\u001b[1;33m\u001b[0m\u001b[0m\n\u001b[0;32m      5\u001b[0m     \u001b[1;31m#定义一个抽象方法\u001b[0m\u001b[1;33m\u001b[0m\u001b[1;33m\u001b[0m\u001b[1;33m\u001b[0m\u001b[0m\n\u001b[1;32m----> 6\u001b[1;33m     \u001b[1;33m@\u001b[0m\u001b[0mabc\u001b[0m\u001b[1;33m.\u001b[0m\u001b[0mabcstractmethod\u001b[0m\u001b[1;33m\u001b[0m\u001b[1;33m\u001b[0m\u001b[0m\n\u001b[0m\u001b[0;32m      7\u001b[0m     \u001b[1;32mdef\u001b[0m \u001b[0msmmoking\u001b[0m\u001b[1;33m(\u001b[0m\u001b[0mself\u001b[0m\u001b[1;33m)\u001b[0m\u001b[1;33m:\u001b[0m\u001b[1;33m\u001b[0m\u001b[1;33m\u001b[0m\u001b[0m\n\u001b[0;32m      8\u001b[0m         \u001b[1;32mpass\u001b[0m\u001b[1;33m\u001b[0m\u001b[1;33m\u001b[0m\u001b[0m\n",
      "\u001b[1;31mAttributeError\u001b[0m: module 'abc' has no attribute 'abcstractmethod'"
     ]
    }
   ],
   "source": [
    "# 抽象类的实现\n",
    "import abc\n",
    "#声明一个类且指定当前类的元类\n",
    "class Human(metaclass=abc.ABCMeta):\n",
    "    #定义一个抽象方法\n",
    "    @abc.abcstractmethod\n",
    "    def smmoking(self):\n",
    "        pass\n",
    "    #定义类的抽象方法\n",
    "    @abc.abstractclassmethod\n",
    "    def drink(cls):\n",
    "        pass\n",
    "    #定义静态方法的抽象方法\n",
    "    @adc.abstractstaticmethod\n",
    "    def play():\n",
    "        pass\n",
    "    def sleep(self):\n",
    "        print(\"sleeping.....\")"
   ]
  },
  {
   "cell_type": "code",
   "execution_count": 7,
   "metadata": {},
   "outputs": [
    {
     "name": "stdout",
     "output_type": "stream",
     "text": [
      "yy,nihao\n",
      "mm,nihao\n"
     ]
    }
   ],
   "source": [
    "# 函数名可以当变量使用\n",
    "def sayHello(name):\n",
    "    print(\"{0},nihao\".format(name))\n",
    "sayHello(\"yy\")\n",
    "liumang = sayHello\n",
    "liumang(\"mm\")"
   ]
  },
  {
   "cell_type": "code",
   "execution_count": 10,
   "metadata": {},
   "outputs": [
    {
     "name": "stdout",
     "output_type": "stream",
     "text": [
      "adsf\n",
      "adsf\n",
      "adsf\n"
     ]
    }
   ],
   "source": [
    "# 自己组装一个类\n",
    "class A():\n",
    "    pass\n",
    "def say(self):\n",
    "    print(\"adsf\")\n",
    "class B():\n",
    "    def say(self):\n",
    "        print(\"adsf\")\n",
    "say(9)\n",
    "A.say = say\n",
    "a = A()\n",
    "a.say()\n",
    "\n",
    "b = B()\n",
    "b.say()\n"
   ]
  },
  {
   "cell_type": "code",
   "execution_count": 15,
   "metadata": {},
   "outputs": [
    {
     "name": "stdout",
     "output_type": "stream",
     "text": [
      "123\n"
     ]
    }
   ],
   "source": [
    "#组装类例子2\n",
    "from types import MethodType\n",
    "class A():\n",
    "    pass\n",
    "def say(self):\n",
    "    print(\"123\")\n",
    "a = A()\n",
    "a.say = MethodType(say, A)# say\n",
    "a.say()"
   ]
  },
  {
   "cell_type": "code",
   "execution_count": 17,
   "metadata": {},
   "outputs": [],
   "source": [
    "#help(MethodType)"
   ]
  },
  {
   "cell_type": "code",
   "execution_count": 21,
   "metadata": {},
   "outputs": [
    {
     "name": "stdout",
     "output_type": "stream",
     "text": [
      "123\n",
      "123\n"
     ]
    }
   ],
   "source": [
    "# 利用type造一个类\n",
    "#先定义类应该具有的成员函数\n",
    "#用type来创建一个类\n",
    "def say(self):\n",
    "    print(\"123\")\n",
    "def talk(self):\n",
    "    print(\"123\")\n",
    "A = type(\"AName\", (object,), {\"class_say\":say, \"class_talk\":talk})\n",
    "#然后可以正常用\n",
    "\n",
    "a = A()\n",
    "a.class_say()\n",
    "a.class_talk()"
   ]
  },
  {
   "cell_type": "code",
   "execution_count": 25,
   "metadata": {},
   "outputs": [
    {
     "data": {
      "text/plain": [
       "'0000'"
      ]
     },
     "execution_count": 25,
     "metadata": {},
     "output_type": "execute_result"
    }
   ],
   "source": [
    "#元类演示\n",
    "#元类写法是固定的，必须继承自Type\n",
    "#元类一般命名以MetaClass结尾\n",
    "class TulingMetaClass(type):\n",
    "    #注意以下写法\n",
    "    def __new__(cls, name, bases, attrs):\n",
    "        #自己的业务处理\n",
    "        attrs[\"id\"] = \"0000\"\n",
    "        return type.__new__(cls, name, bases, attrs)\n",
    "#元类定义完了，就可以使用，注意写法\n",
    "class Teacher(object, metaclass=TulingMetaClass):\n",
    "    pass\n",
    "t = Teacher()\n",
    "t.id"
   ]
  }
 ],
 "metadata": {
  "kernelspec": {
   "display_name": "Python 3",
   "language": "python",
   "name": "python3"
  },
  "language_info": {
   "codemirror_mode": {
    "name": "ipython",
    "version": 3
   },
   "file_extension": ".py",
   "mimetype": "text/x-python",
   "name": "python",
   "nbconvert_exporter": "python",
   "pygments_lexer": "ipython3",
   "version": "3.7.1"
  }
 },
 "nbformat": 4,
 "nbformat_minor": 2
}
