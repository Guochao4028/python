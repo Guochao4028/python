{
 "cells": [
  {
   "cell_type": "markdown",
   "metadata": {},
   "source": [
    "# log模块资料\n",
    "- https://www.cnblogs.com/yyds/p/6901864.html"
   ]
  },
  {
   "cell_type": "markdown",
   "metadata": {},
   "source": [
    "# python 语言的高级特性"
   ]
  },
  {
   "cell_type": "markdown",
   "metadata": {},
   "source": [
    "## 函数式编程（FuntionalProgramming）\n",
    "- 基于lambda演算的一种编程方法\n",
    "    - 程序中只有函数\n",
    "    - 函数可以作为参数，同样可以作为返回值\n",
    "    - 纯函数式语言 LISP Haskell\n",
    "- Python 函数式编程只是借鉴函数式编程的一些特点，可以理解成一般函数式一般Python\n",
    "- 需要讲述\n",
    "    - 高阶函数\n",
    "    - 返回函数\n",
    "    - 匿名函数\n",
    "    - 装饰器\n",
    "    - 偏函数"
   ]
  },
  {
   "cell_type": "markdown",
   "metadata": {},
   "source": [
    "### lambda 表达式\n",
    "- 函数 最大程度复用\n",
    "    - 存在问题  如果函数很小，很短 则会造成啰嗦\n",
    "    - 如果函数被调用次数少，会造成浪费\n",
    "    - 阅读流程困难\n",
    "- lambda表达式（匿名函数）：\n",
    "    - 一个表达式 函数体相对简单\n",
    "    - 不是一个代码块，仅仅是一个表达式\n",
    "    - 可以有参数，有多个参数，用逗号分隔"
   ]
  },
  {
   "cell_type": "code",
   "execution_count": 4,
   "metadata": {},
   "outputs": [
    {
     "name": "stdout",
     "output_type": "stream",
     "text": [
      "AAAAAAAAAAAA\n"
     ]
    }
   ],
   "source": [
    "# “小”函数举例\n",
    "def printA():\n",
    "    print(\"AAAAAAAAAAAA\")\n",
    "    return None\n",
    "printA()"
   ]
  },
  {
   "cell_type": "code",
   "execution_count": 6,
   "metadata": {},
   "outputs": [
    {
     "data": {
      "text/plain": [
       "8900"
      ]
     },
     "execution_count": 6,
     "metadata": {},
     "output_type": "execute_result"
    }
   ],
   "source": [
    "# lambda表达式的用法\n",
    "#1， 以lambda开头\n",
    "#2， 紧跟一定参数（如果有的话）\n",
    "#3， 参数后用冒号和表达式主题隔开\n",
    "#4， 只是一个表达式，所以没有return\n",
    "#计算一个数乘以100\n",
    "stm = lambda x: x * 100 \n",
    "#使用上跟函数调用一模一样\n",
    "stm(89)\n"
   ]
  },
  {
   "cell_type": "code",
   "execution_count": 8,
   "metadata": {},
   "outputs": [
    {
     "data": {
      "text/plain": [
       "432"
      ]
     },
     "execution_count": 8,
     "metadata": {},
     "output_type": "execute_result"
    }
   ],
   "source": [
    "stm = lambda x, y, z: x+ y*10+ z*100\n",
    "stm(2,3,4)"
   ]
  },
  {
   "cell_type": "markdown",
   "metadata": {},
   "source": [
    "### 高阶函数\n",
    "- 把函数作为参数使用的函数，叫高阶函数"
   ]
  },
  {
   "cell_type": "code",
   "execution_count": 10,
   "metadata": {},
   "outputs": [],
   "source": [
    "# 变量可以赋值\n",
    "a = 100\n",
    "b = a"
   ]
  },
  {
   "cell_type": "code",
   "execution_count": 12,
   "metadata": {},
   "outputs": [
    {
     "name": "stdout",
     "output_type": "stream",
     "text": [
      "in funa\n"
     ]
    }
   ],
   "source": [
    "# 函数名就是一个变量\n",
    "def funA():\n",
    "    print(\"in funa\")\n",
    "funB = funA\n",
    "funB()"
   ]
  },
  {
   "cell_type": "markdown",
   "metadata": {},
   "source": [
    "### 以上代码得出的结论\n",
    "- 函数名是变量\n",
    "- funB 和 funA只是名称不一样\n",
    "- 既然函数名称是变量，则应该可以被当做参数传入另一个函数"
   ]
  },
  {
   "cell_type": "code",
   "execution_count": 16,
   "metadata": {},
   "outputs": [
    {
     "name": "stdout",
     "output_type": "stream",
     "text": [
      "2700\n",
      "2700\n",
      "210\n"
     ]
    }
   ],
   "source": [
    "# 高阶函数举例\n",
    "# funA是普通函数，返回一个传入数字的100倍数字\n",
    "def funA(n):\n",
    "    return n * 100\n",
    "\n",
    "# 在写一个函数，把传入参数乘以300倍，利用高阶函数\n",
    "def funB(n):\n",
    "    # 最终想返回300n\n",
    "    return funA(n)*3\n",
    "print(funB(9))\n",
    "# 写一个高阶函数\n",
    "def funC(n, f):\n",
    "    # 假定函数是把n放大100倍\n",
    "    return f(n)*3\n",
    "print(funC(9, funA))\n",
    "# 比较func和funb，显然func的写法优于funb\n",
    "#例如：\n",
    "def funD(n):\n",
    "    return n *10\n",
    "# 需求变更，需要把n放大30倍，此时funb无法实现\n",
    "print(funC(7, funD))\n",
    "    "
   ]
  },
  {
   "cell_type": "markdown",
   "metadata": {},
   "source": [
    "### 系统高阶函数- map\n",
    "- 原意就是映射，即把集合或者列表的元素，每一个元素都按照一定规则进行操作，生成一个新的列表或者集合\n",
    "- map函数是系统提供的具有映射功能的函数，返回值是一个迭代对象\n"
   ]
  },
  {
   "cell_type": "code",
   "execution_count": 26,
   "metadata": {},
   "outputs": [
    {
     "name": "stdout",
     "output_type": "stream",
     "text": [
      "[0, 1, 2, 3, 4, 5, 6, 7, 8, 9] [0, 10, 20, 30, 40, 50, 60, 70, 80, 90]\n",
      "<map object at 0x0000000004FDC8D0>\n",
      "0\n",
      "10\n",
      "20\n",
      "30\n",
      "40\n",
      "50\n",
      "60\n",
      "70\n",
      "80\n",
      "90\n",
      "[]\n"
     ]
    }
   ],
   "source": [
    "# map 举例\n",
    "# 有一个列表，想对列表每一个元素乘以10，并得到新的列表\n",
    "l1 = [i for i in range(10)]\n",
    "# l2 = [i*10 for i in l1]\n",
    "l2 = []\n",
    "for i in l1:\n",
    "    l2.append(i *10)\n",
    "print(l1,l2)\n",
    "\n",
    "#利用map实现\n",
    "def mulTen(n):\n",
    "    return n*10\n",
    "l3 = map(mulTen, l1)\n",
    "print(l3)\n",
    "# map类型是一个可迭代的结构，所以可以使用for遍历\n",
    "for i in l3:\n",
    "    print(i)\n",
    "# why\n",
    "l4 = [i for i in l3]\n",
    "print(l4)"
   ]
  },
  {
   "cell_type": "markdown",
   "metadata": {},
   "source": [
    "### reduce\n",
    "- 原意是归并，缩减\n",
    "- 把一个可迭代对象最后归并成一个结果\n",
    "- 对于作为参数的函数要求， 必须由两个参数，必须由返回结果\n",
    "- reduce([1,2,3,4,5]) == f(f(f(f(1,2),3),4,5)\n",
    "- reduce 需要导入functools包"
   ]
  },
  {
   "cell_type": "code",
   "execution_count": 31,
   "metadata": {},
   "outputs": [
    {
     "name": "stdout",
     "output_type": "stream",
     "text": [
      "21\n"
     ]
    }
   ],
   "source": [
    "from functools import reduce\n",
    "# 定义一个操作函数\n",
    "#加入操作函数 只是相加\n",
    "def maAdd(x, y):\n",
    "    return x+y\n",
    "# 对列表[1，2，3，4，5，6]执行maAdd的reduce操作\n",
    "rs = reduce(maAdd,[1,2,3,4,5,6])\n",
    "print(rs)"
   ]
  },
  {
   "cell_type": "markdown",
   "metadata": {},
   "source": [
    "### filer 函数\n",
    "- 过滤函数 对一组数据进行过滤，符合条件的数据会生成一个新的列表并返回\n",
    "- 跟map比较\n",
    "    - 相同：都对列表的每一个元素逐一进行操作\n",
    "    - 不同\n",
    "        - map会生成一个跟原来数据相对应的新队列\n",
    "        - filter 不一定，只要符合条件的才会进入新的数据集合\n",
    "    - filter 函数\n",
    "        - 利用给定函数进行判断\n",
    "        - 返回值一定是布尔值\n",
    "        - 调用格式 filter(f,data)f是过滤函数，data是数据"
   ]
  },
  {
   "cell_type": "code",
   "execution_count": 34,
   "metadata": {},
   "outputs": [
    {
     "name": "stdout",
     "output_type": "stream",
     "text": [
      "4\n",
      "34\n",
      "6534\n",
      "1234\n",
      "786\n"
     ]
    }
   ],
   "source": [
    "# filter举例\n",
    "# 需要定义一个过滤函数\n",
    "# 过滤函数要有输入，返回bool\n",
    "def isEven(a):\n",
    "    return a % 2 == 0\n",
    "l = [3,4,5,34,2345,6534,1234,5,786,43]\n",
    "ret = filter(isEven,l)\n",
    "# filter 返回一个可迭代的对象\n",
    "for i in ret:\n",
    "    print(i)"
   ]
  },
  {
   "cell_type": "markdown",
   "metadata": {},
   "source": [
    "### 高阶函数-排序\n",
    "- 把一个序列按照给定的算法进行排序\n",
    "- key 在排序对每一个元素进行key函数运算，可以理解成按照key函数定义的逻辑进行排序"
   ]
  },
  {
   "cell_type": "code",
   "execution_count": 38,
   "metadata": {},
   "outputs": [
    {
     "name": "stdout",
     "output_type": "stream",
     "text": [
      "[456, 345, 123, 123, 32, 23, 8, 7, 5]\n"
     ]
    }
   ],
   "source": [
    "# 排序案例\n",
    "a = [123,345,456,32,123,23,5,7,8]\n",
    "al = sorted(a, reverse=True)\n",
    "print(al)"
   ]
  },
  {
   "cell_type": "code",
   "execution_count": 37,
   "metadata": {},
   "outputs": [
    {
     "name": "stdout",
     "output_type": "stream",
     "text": [
      "[-1234, 345, -23, 1]\n"
     ]
    }
   ],
   "source": [
    "# 排序案例2\n",
    "a = [1,-23,345,-1234]\n",
    "al = sorted(a, key=abs, reverse=True)\n",
    "print(al)"
   ]
  },
  {
   "cell_type": "code",
   "execution_count": 43,
   "metadata": {},
   "outputs": [
    {
     "name": "stdout",
     "output_type": "stream",
     "text": [
      "['Qwer', 'ad', 'asdfwer', 'asdfwqer', 'qwer']\n",
      "['ad', 'asdfwer', 'asdfwqer', 'Qwer', 'qwer']\n"
     ]
    }
   ],
   "source": [
    "# sorted 案例\n",
    "astr = [\"ad\",\"asdfwqer\",\"Qwer\",\"qwer\",\"asdfwer\"]\n",
    "str1 = sorted(astr)\n",
    "print(str1)\n",
    "str2 = sorted(astr,key=str.lower)\n",
    "print(str2)"
   ]
  },
  {
   "cell_type": "markdown",
   "metadata": {},
   "source": [
    "# 返回函数\n",
    "- 函数可以返回具体的值\n",
    "- 也可以返回一个函数作为结果"
   ]
  },
  {
   "cell_type": "code",
   "execution_count": 44,
   "metadata": {},
   "outputs": [],
   "source": [
    "# 定义一个普通函数\n",
    "def myF(a):\n",
    "    print(\"in myF\")\n",
    "    return None"
   ]
  },
  {
   "cell_type": "code",
   "execution_count": 46,
   "metadata": {},
   "outputs": [
    {
     "name": "stdout",
     "output_type": "stream",
     "text": [
      "in myF\n",
      "None\n"
     ]
    }
   ],
   "source": [
    "a = myF(8)\n",
    "print(a)"
   ]
  },
  {
   "cell_type": "code",
   "execution_count": 48,
   "metadata": {},
   "outputs": [],
   "source": [
    "# 函数作为返回值返回，被返回的函数在函数体内定义\n",
    "def myF2():\n",
    "    def myF3():\n",
    "        print(\"in myf3\")\n",
    "        return 3\n",
    "    return myF3"
   ]
  },
  {
   "cell_type": "code",
   "execution_count": 51,
   "metadata": {},
   "outputs": [
    {
     "name": "stdout",
     "output_type": "stream",
     "text": [
      "<class 'function'>\n",
      "<function myF2.<locals>.myF3 at 0x000000000525A510>\n",
      "in myf3\n"
     ]
    },
    {
     "data": {
      "text/plain": [
       "3"
      ]
     },
     "execution_count": 51,
     "metadata": {},
     "output_type": "execute_result"
    }
   ],
   "source": [
    "#使用上面定义\n",
    "# 调用myf2，返回一个函数myf3，赋值给f3\n",
    "f3 = myF2()\n",
    "print(type(f3))\n",
    "print(f3)\n",
    "f3()"
   ]
  },
  {
   "cell_type": "code",
   "execution_count": 55,
   "metadata": {},
   "outputs": [
    {
     "name": "stdout",
     "output_type": "stream",
     "text": [
      "45\n"
     ]
    }
   ],
   "source": [
    "# 复杂一点的返回函数的例子\n",
    "# args 参数列表\n",
    "#1,myf4 定义函数，返回内部定义的函数myf5\n",
    "#2，myf5使用外部变量，这个变量就是myf4的参数\n",
    "def myF4(*args):\n",
    "    def myF5():\n",
    "        rst = 0\n",
    "        for i in args:\n",
    "            rst +=i\n",
    "        return rst\n",
    "    return myF5\n",
    "rst = myF4(1,2,3,4,5,6,7,8,9,0)\n",
    "# rst的调用方式\n",
    "print(rst())"
   ]
  },
  {
   "cell_type": "markdown",
   "metadata": {},
   "source": [
    "## 闭包 （closure）\n",
    "- 当一个函数在内部定义函数，并且内部的函数应用外部函数的参数或者局部变量，当内部函数被当做返回值的时候，相关参数和变量保存在返回函数中，这种结果就叫闭包\n",
    "- 上面定义的myF4是一个标准的闭包结构"
   ]
  },
  {
   "cell_type": "code",
   "execution_count": 60,
   "metadata": {},
   "outputs": [
    {
     "name": "stdout",
     "output_type": "stream",
     "text": [
      "9\n",
      "9\n",
      "9\n"
     ]
    }
   ],
   "source": [
    "# 闭包常见的坑\n",
    "def count():\n",
    "    #定义列表，列表里存放的是定义的函数\n",
    "    fs = []\n",
    "    for i in range(1,4):\n",
    "        # 定义一个函数\n",
    "        #f是一个闭包结构\n",
    "        def f():\n",
    "            return i*i\n",
    "        fs.append(f)\n",
    "    return fs\n",
    "f1,f2,f3 = count()\n",
    "print(f1())\n",
    "print(f2())\n",
    "print(f3())"
   ]
  },
  {
   "cell_type": "markdown",
   "metadata": {},
   "source": [
    "### 出现的问题\n",
    "- 造成上述状况的原因是，返回函数引用了变量i，i并非立即执行，而是等到三个函数都返回的时候才统一使用，此时i已经变成了3，最终调用的时候，都返回是3*3\n",
    "- 此问题描述成：返回闭包时，返回函数不能引用任何循环变量\n",
    "- 解决方案 在创建一个函数，用该函数的参数绑定循环变量的当前值，无论该循环变量以后如何改变，已经绑定的函数参数值不再改变"
   ]
  },
  {
   "cell_type": "code",
   "execution_count": 65,
   "metadata": {},
   "outputs": [
    {
     "name": "stdout",
     "output_type": "stream",
     "text": [
      "1\n",
      "4\n",
      "9\n"
     ]
    }
   ],
   "source": [
    "def count1():\n",
    "    fs = []\n",
    "    def f(j):\n",
    "        def g():\n",
    "            return j * j\n",
    "        return g\n",
    "    for i in range(1,4):\n",
    "        fs.append(f(i))\n",
    "    return fs\n",
    "f1,f2,f3 = count1()\n",
    "print(f1())\n",
    "print(f2())\n",
    "print(f3())"
   ]
  },
  {
   "cell_type": "markdown",
   "metadata": {},
   "source": [
    "### 装饰器"
   ]
  },
  {
   "cell_type": "code",
   "execution_count": 67,
   "metadata": {},
   "outputs": [
    {
     "name": "stdout",
     "output_type": "stream",
     "text": [
      "hello world\n"
     ]
    }
   ],
   "source": [
    "def hello():\n",
    "    print(\"hello world\")\n",
    "    return None\n",
    "hello()"
   ]
  },
  {
   "cell_type": "code",
   "execution_count": 69,
   "metadata": {},
   "outputs": [
    {
     "name": "stdout",
     "output_type": "stream",
     "text": [
      "hello world\n"
     ]
    }
   ],
   "source": [
    "f = hello\n",
    "f()"
   ]
  },
  {
   "cell_type": "code",
   "execution_count": 71,
   "metadata": {},
   "outputs": [
    {
     "name": "stdout",
     "output_type": "stream",
     "text": [
      "86351944\n",
      "86351944\n",
      "hello\n"
     ]
    }
   ],
   "source": [
    "# f和hello是一个函数\n",
    "print(id(f))\n",
    "print(id(hello))\n",
    "print(f.__name__)"
   ]
  },
  {
   "cell_type": "code",
   "execution_count": 72,
   "metadata": {},
   "outputs": [],
   "source": [
    "# 新的需求\n",
    "# 每次打印hello之前打印时间，不改变代码\n",
    "#==》使用装饰器"
   ]
  },
  {
   "cell_type": "markdown",
   "metadata": {},
   "source": [
    "### 装饰器（Decrator）\n",
    "- 在不改变函数代码的基础上无限扩展函数功能的一种机制，本质上讲，装饰器是一个返回函数的高阶函数\n",
    "- 装饰器的使用 使用@语法，即在每次要扩展到函数定义前使用@+函数名"
   ]
  },
  {
   "cell_type": "code",
   "execution_count": 75,
   "metadata": {},
   "outputs": [],
   "source": [
    "# 任务：\n",
    "# 对hello函数进行功能扩展，每次执行hello前打印当前时间\n",
    "import time\n",
    "#高阶函数，以函数作为参数\n",
    "def printTime(f):\n",
    "    def weapper(*args,**kwargs):\n",
    "        print(\"time\", time.ctime())\n",
    "        return f(*args, **kwargs)\n",
    "    return weapper\n"
   ]
  },
  {
   "cell_type": "code",
   "execution_count": 78,
   "metadata": {},
   "outputs": [
    {
     "name": "stdout",
     "output_type": "stream",
     "text": [
      "time Sat Apr 13 17:10:15 2019\n",
      "Hello World\n"
     ]
    }
   ],
   "source": [
    "# 上面定义装饰器，使用的时候需要用到@。此符号是Python的语法糖\n",
    "@printTime\n",
    "def hello():\n",
    "    print(\"Hello World\")\n",
    "hello()"
   ]
  },
  {
   "cell_type": "code",
   "execution_count": 82,
   "metadata": {},
   "outputs": [
    {
     "name": "stdout",
     "output_type": "stream",
     "text": [
      "time Sat Apr 13 17:14:03 2019\n",
      "asdfasdfsfasdfsadfsdf\n",
      "wer213r9239323923993\n"
     ]
    }
   ],
   "source": [
    "# 装饰器的好处 一但定义，则可以装饰任何函数\n",
    "# 一旦被其装饰，则把装饰器的功能直接添加到定义函数的功能上\n",
    "@printTime\n",
    "def hello2():\n",
    "    print(\"asdfasdfsfasdfsadfsdf\")\n",
    "    print(\"wer213r9239323923993\")\n",
    "hello2()"
   ]
  },
  {
   "cell_type": "code",
   "execution_count": 87,
   "metadata": {},
   "outputs": [
    {
     "name": "stdout",
     "output_type": "stream",
     "text": [
      "qeqweqw\n",
      "time Sat Apr 13 17:19:34 2019\n",
      "qeqweqw\n",
      "time Sat Apr 13 17:19:34 2019\n",
      "time Sat Apr 13 17:19:34 2019\n",
      "qeqweqw\n",
      "time Sat Apr 13 17:19:34 2019\n",
      "time Sat Apr 13 17:19:34 2019\n",
      "qeqweqw\n"
     ]
    }
   ],
   "source": [
    "# 上面对函数的装饰使用了系统定义的语法糖\n",
    "# 下面开始手动执行下装饰器\n",
    "#先定义函数\n",
    "def hello3():\n",
    "    print(\"qeqweqw\")\n",
    "hello3()\n",
    "\n",
    "hello3 = printTime(hello3)\n",
    "hello3()\n",
    "f = printTime(hello3)\n",
    "f()\n",
    "a = printTime(hello3)\n",
    "a()"
   ]
  },
  {
   "cell_type": "markdown",
   "metadata": {},
   "source": [
    "### 偏函数"
   ]
  },
  {
   "cell_type": "code",
   "execution_count": 90,
   "metadata": {},
   "outputs": [
    {
     "name": "stdout",
     "output_type": "stream",
     "text": [
      "5349\n"
     ]
    }
   ],
   "source": [
    "# 把字符串转化成十进制\n",
    "a = int(\"12345\", base=8)\n",
    "print(a)"
   ]
  },
  {
   "cell_type": "code",
   "execution_count": 92,
   "metadata": {},
   "outputs": [
    {
     "data": {
      "text/plain": [
       "74565"
      ]
     },
     "execution_count": 92,
     "metadata": {},
     "output_type": "execute_result"
    }
   ],
   "source": [
    "# 新建一个函数， 此函数是默认输入字符串是16进制数字\n",
    "# 把此字符串返回十进制的数字\n",
    "def int16(x, base=16):\n",
    "    return int(x, base)\n",
    "int16(\"12345\")"
   ]
  },
  {
   "cell_type": "markdown",
   "metadata": {},
   "source": [
    "### 偏函数\n",
    "- 参数固定的函数，相当于一个由特定参数的函数体\n",
    "- functools.partial的作用是，把一个函数某些函数固定，返回一个新的函数\n"
   ]
  },
  {
   "cell_type": "code",
   "execution_count": 96,
   "metadata": {},
   "outputs": [
    {
     "data": {
      "text/plain": [
       "74565"
      ]
     },
     "execution_count": 96,
     "metadata": {},
     "output_type": "execute_result"
    }
   ],
   "source": [
    "import functools\n",
    "\n",
    "# 实现上面int16的功能\n",
    "int16 = functools.partial(int, base=16)\n",
    "int16(\"12345\")"
   ]
  }
 ],
 "metadata": {
  "kernelspec": {
   "display_name": "Python 3",
   "language": "python",
   "name": "python3"
  },
  "language_info": {
   "codemirror_mode": {
    "name": "ipython",
    "version": 3
   },
   "file_extension": ".py",
   "mimetype": "text/x-python",
   "name": "python",
   "nbconvert_exporter": "python",
   "pygments_lexer": "ipython3",
   "version": "3.7.1"
  }
 },
 "nbformat": 4,
 "nbformat_minor": 2
}
