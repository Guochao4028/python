{
 "cells": [
  {
   "cell_type": "markdown",
   "metadata": {},
   "source": [
    "# 文件\n",
    "- 长久保存信息的一种数据信息的集合\n",
    "- 常用操作\n",
    "    - 打开关闭（文件一旦打开，需要关闭操作）\n",
    "    - 读写内容\n",
    "    - 查找\n",
    "# open函数\n",
    "- open函数负责打开文件，带有很多参数\n",
    "- 第一个参数，必须有，文件路径和名称\n",
    "- mode 表明文件用什么方式打开\n",
    "    - r：以只读方式打开\n",
    "    - w：写方式打开，会覆盖以前的内容\n",
    "    - x：创建方式打开，如果文件已经村子，报错\n",
    "    - a: append方式 ，以追加的方法对文件内容进行写入\n",
    "    - b: 以二进制方式写入\n",
    "    - t:文本方式打开\n",
    "    - +：可读写"
   ]
  },
  {
   "cell_type": "code",
   "execution_count": 3,
   "metadata": {},
   "outputs": [],
   "source": [
    "# 打开文件，用写的方式\n",
    "# r表示后面字符串内容不需要转义\n",
    "# f称为文件句柄\n",
    "f= open(r\"test01.txt\",\"w\")\n",
    "#文件打开后必须关闭\n",
    "f.close()\n",
    "\n",
    "# 此案例说明，以写方式打开文件，默认是如果没有文件则创建"
   ]
  },
  {
   "cell_type": "markdown",
   "metadata": {},
   "source": [
    "# with语句\n",
    "- with语句使用的技术是一种成为上下文管理协议的技术（ContextManagementProtocal）\n",
    "- 自动判断文件的作用域，自动关闭不再使用的打开文件句柄"
   ]
  },
  {
   "cell_type": "code",
   "execution_count": 4,
   "metadata": {},
   "outputs": [],
   "source": [
    "#with 语句 案例\n",
    "with open(r\"test01.txt\",\"r\")as f:\n",
    "    pass\n",
    "    # 下面语句块开始对文件f进行操作\n",
    "    # 在本模块中不需要再使用close关闭文件f"
   ]
  },
  {
   "cell_type": "code",
   "execution_count": 8,
   "metadata": {},
   "outputs": [
    {
     "name": "stdout",
     "output_type": "stream",
     "text": [
      "sadfsdf\n",
      "\n",
      "wer\n"
     ]
    }
   ],
   "source": [
    "with open(r'test01.txt', 'r') as f:\n",
    "    # 按行读取内容\n",
    "    strline = f.readline()\n",
    "    #此结构保证能完整读取文件直到结束\n",
    "    while strline:\n",
    "        print(strline)\n",
    "        strline = f.readline()"
   ]
  },
  {
   "cell_type": "code",
   "execution_count": 10,
   "metadata": {},
   "outputs": [
    {
     "name": "stdout",
     "output_type": "stream",
     "text": [
      "sadfsdf\n",
      "\n",
      "wer\n"
     ]
    }
   ],
   "source": [
    "# list 能用打开的文件作为参数，把文件内每一行内容作为一个元素\n",
    "with open(r'test01.txt', 'r') as f:\n",
    "    l = list(f)\n",
    "    for line in l:\n",
    "        print(line)"
   ]
  },
  {
   "cell_type": "code",
   "execution_count": 16,
   "metadata": {},
   "outputs": [
    {
     "name": "stdout",
     "output_type": "stream",
     "text": [
      "1\n",
      "s\n",
      "sadfsdf\n",
      "wer"
     ]
    }
   ],
   "source": [
    "# read 按字符读取文件内容\n",
    "# 允许输入参数决定读取几个字符，如果没有制定，从当前位置读取到结尾\n",
    "# 否则 从当前位置读取指定个数字符\n",
    "with open(r'test01.txt', 'r') as f:\n",
    "    strChar = f.read(1)\n",
    "    print(len(strChar))\n",
    "    print(strChar)\n",
    "    fl = []\n",
    "    while strChar:\n",
    "        fl.append(strChar)\n",
    "        strChar = f.read(1)\n",
    "    for i in fl:\n",
    "        print(i,end=\"\")"
   ]
  },
  {
   "cell_type": "markdown",
   "metadata": {},
   "source": [
    "# seek(offset, from)\n",
    "- 移动文件的读取位置，也叫读取指针\n",
    "- from的取值范围：\n",
    "    - 0 从文件头开始偏移\n",
    "    - 1 从文件当前位置开始偏移\n",
    "    - 2 从文件末尾开始偏移\n",
    "- 移动的单位是字节（byte）\n",
    "- 一个汉字由若干个字节构成\n",
    "- 返回文件只针对当前位置 "
   ]
  },
  {
   "cell_type": "code",
   "execution_count": 23,
   "metadata": {},
   "outputs": [
    {
     "name": "stdout",
     "output_type": "stream",
     "text": [
      "柉钂傝姮sadfsdf\n",
      "wer\n"
     ]
    }
   ],
   "source": [
    "# seek 案例\n",
    "#打开文件后从第5个字节处开始读取\n",
    "\n",
    "#打开读写指针在0处，即文件的开头\n",
    "with open(r'test01.txt', 'r') as f:\n",
    "    f.seek(4, 0)\n",
    "    strChar = f.read()\n",
    "    print(strChar)"
   ]
  },
  {
   "cell_type": "code",
   "execution_count": 27,
   "metadata": {},
   "outputs": [
    {
     "name": "stdout",
     "output_type": "stream",
     "text": [
      "闃挎柉\n",
      "钂傝姮\n",
      "sad\n",
      "fsd\n",
      "f\n",
      "w\n",
      "er\n"
     ]
    }
   ],
   "source": [
    "# 关于读取文件的练习\n",
    "# 打开文件，三个字符一组读出来，然后显示在屏幕上\n",
    "#每读一次，休息一秒钟\n",
    "import time\n",
    "with open(r\"test01.txt\", \"r\") as f:\n",
    "    # read 参数的单位是字符，可以理解成一个汉字就是一个字符\n",
    "    strChar = f.read(3)\n",
    "    while strChar:\n",
    "        print(strChar)\n",
    "        strChar = f.read(3)\n",
    "        time.sleep(1)\n",
    "        \n",
    "    "
   ]
  },
  {
   "cell_type": "code",
   "execution_count": 33,
   "metadata": {},
   "outputs": [
    {
     "name": "stdout",
     "output_type": "stream",
     "text": [
      "6\n",
      "阿尔法\n",
      "11\n",
      "违法 \n",
      "17\n",
      "玩儿翁\n",
      "23\n",
      "热无若\n",
      "26\n",
      " sa\n",
      "29\n",
      "dfs\n",
      "32\n",
      "df\n",
      "\n",
      "36\n",
      "wer\n",
      "41\n",
      "生活不\n",
      "48\n",
      "像阿斯\n",
      "53\n",
      "蒂芬撒\n",
      "59\n",
      "旦法水\n",
      "64\n",
      "电费 \n",
      "70\n",
      "为日数\n",
      "76\n",
      "阿道夫\n",
      "82\n",
      "水电费\n",
      "87\n",
      " 而且\n",
      "93\n",
      "二群生\n",
      "99\n",
      "活不像\n",
      "105\n",
      "阿斯蒂\n",
      "111\n",
      "芬撒旦\n",
      "117\n",
      "法水电\n",
      "122\n",
      "费 为\n",
      "128\n",
      "日数阿\n",
      "134\n",
      "道夫水\n",
      "139\n",
      "电费 \n",
      "145\n",
      "而且二\n",
      "149\n",
      "群qw\n",
      "152\n",
      "era\n",
      "155\n",
      "sdf\n",
      "158\n",
      "iuk\n",
      "161\n",
      "dgf\n",
      "164\n",
      "egv\n",
      "167\n",
      "eer\n",
      "168\n",
      "g\n"
     ]
    }
   ],
   "source": [
    "# tell函数 用来显示文件读写指针的当前位置\n",
    "with open(r\"test01.txt\", \"r\") as f:\n",
    "    strChar = f.read(3)\n",
    "    pos = f.tell()\n",
    "    while strChar:\n",
    "        print(pos)\n",
    "        print(strChar)\n",
    "        strChar = f.read(3)\n",
    "        pos = f.tell()\n",
    "# 以下结果说明\n",
    "#tell的返回数字的单位是byte\n",
    "# read是以字符单位"
   ]
  },
  {
   "cell_type": "markdown",
   "metadata": {},
   "source": [
    "# 文件的写操作 - write\n",
    "- write（str）把字符串写入文件\n",
    "- writelines（str）把字符串按行写入文件\n",
    "- 区别：\n",
    "    - write 函数参数只能是字符串\n",
    "    - writeline参数可以是字符串，也可以是字符序列"
   ]
  },
  {
   "cell_type": "code",
   "execution_count": 37,
   "metadata": {},
   "outputs": [],
   "source": [
    "# write案例\n",
    "with open(r\"test01.txt\", \"a\") as f:\n",
    "    f.write(\"生活不像阿斯蒂芬撒旦法水电费 \\n 为日数阿道夫水电费\\n 而且二群\")"
   ]
  },
  {
   "cell_type": "code",
   "execution_count": 39,
   "metadata": {},
   "outputs": [],
   "source": [
    "# 可以直接写入行，用writelines\n",
    "#a代表 以追加的方法打开\n",
    "l = [\"qwer\",\"asdf\",\"iukdgf\",\"egveerg\"]\n",
    "with open(r\"test01.txt\", \"w\") as f:\n",
    "    f.writelines(l)"
   ]
  },
  {
   "cell_type": "markdown",
   "metadata": {},
   "source": [
    "# 持久化- pickle\n",
    "- 序列化（持久化，落地）把程序运行中的信息保存在磁盘上\n",
    "- 反序列化 序列号的逆过程\n",
    "- pickle: python提供的序列化模块\n",
    "- pickle.dump 序列化\n",
    "- pickle.load 反序列化"
   ]
  },
  {
   "cell_type": "code",
   "execution_count": 42,
   "metadata": {},
   "outputs": [],
   "source": [
    "# 序列化案例\n",
    "import pickle\n",
    "age = 19\n",
    "with open(r\"test01.txt\", \"wb\") as f:\n",
    "    pickle.dump(age, f)"
   ]
  },
  {
   "cell_type": "code",
   "execution_count": 44,
   "metadata": {},
   "outputs": [
    {
     "name": "stdout",
     "output_type": "stream",
     "text": [
      "19\n"
     ]
    }
   ],
   "source": [
    "# 反序列化案例\n",
    "import pickle\n",
    "with open(r\"test01.txt\", \"rb\") as f:\n",
    "    age = pickle.load(f)\n",
    "    print(age)"
   ]
  },
  {
   "cell_type": "code",
   "execution_count": 45,
   "metadata": {},
   "outputs": [],
   "source": [
    "#  序列化案例\n",
    "import pickle\n",
    "a = [19, \"gc\",\"man\",\"asdfsadfsadf\"]\n",
    "with open(r\"test01.txt\", \"wb\") as f:\n",
    "    pickle.dump(a, f)"
   ]
  },
  {
   "cell_type": "code",
   "execution_count": 48,
   "metadata": {},
   "outputs": [
    {
     "name": "stdout",
     "output_type": "stream",
     "text": [
      "[19, 'gc', 'man', 'asdfsadfsadf']\n"
     ]
    }
   ],
   "source": [
    "# 反序列化案例\n",
    "with open(r\"test01.txt\", \"rb\") as f:\n",
    "    a = pickle.load(f)\n",
    "    print(a)"
   ]
  },
  {
   "cell_type": "markdown",
   "metadata": {},
   "source": [
    "# 持久化- shelve\n",
    "- 持久化工具\n",
    "- 类似字典，用kv对保存数据，存取方式跟字典类似\n",
    "- open， close"
   ]
  },
  {
   "cell_type": "code",
   "execution_count": 50,
   "metadata": {},
   "outputs": [],
   "source": [
    "# 使用shelve 创建文件并且使用\n",
    "import shelve\n",
    "#打开一个文件\n",
    "#shv相当于一个字典\n",
    "shv = shelve.open(r'shv.db')\n",
    "\n",
    "shv[\"one\"]=1\n",
    "shv[\"two\"]=2\n",
    "shv[\"three\"] = 3\n",
    "shv.close()\n",
    "\n",
    "# 通过以上案例发现，shelve自动创建的不仅仅是一个shv.db文件，还包含其他的文件"
   ]
  },
  {
   "cell_type": "code",
   "execution_count": 54,
   "metadata": {},
   "outputs": [
    {
     "name": "stdout",
     "output_type": "stream",
     "text": [
      "error\n"
     ]
    }
   ],
   "source": [
    "# shelve 读取\n",
    "shv = shelve.open(r'shv.db')\n",
    "try:\n",
    "    print(shv[\"onee\"])\n",
    "except Exception as e:\n",
    "    print(\"error\")\n",
    "finally:\n",
    "    shv.close()"
   ]
  },
  {
   "cell_type": "markdown",
   "metadata": {},
   "source": [
    "# shelve 特性\n",
    "- 不支持多个应用并行写入\n",
    "    - 为了解决这个问题，open的时候可以使用flag= r\n",
    "- 写回问题\n",
    "    - shelve error情况下，不会等待持久化 进行任何修改\n",
    "    - 解决方法， 强制写回writeback= True"
   ]
  },
  {
   "cell_type": "code",
   "execution_count": 56,
   "metadata": {},
   "outputs": [
    {
     "name": "stdout",
     "output_type": "stream",
     "text": [
      "1\n"
     ]
    }
   ],
   "source": [
    "# shelve 以只读打开\n",
    "import shelve\n",
    "shv = shelve.open(r'shv.db', flag = \"r\")\n",
    "try:\n",
    "    print(shv[\"one\"])\n",
    "except Exception as e:\n",
    "    print(\"error\")\n",
    "finally:\n",
    "    shv.close()"
   ]
  },
  {
   "cell_type": "code",
   "execution_count": 59,
   "metadata": {},
   "outputs": [
    {
     "name": "stdout",
     "output_type": "stream",
     "text": [
      "{'e': 1, 'z': 2, 'd': 3}\n"
     ]
    }
   ],
   "source": [
    "import shelve\n",
    "\n",
    "shv = shelve.open(r'shv.db')\n",
    "try:\n",
    "    shv[\"one\"] = {\"e\":1,\"z\":2,\"d\":3}\n",
    "finally:\n",
    "    shv.close()\n",
    "    \n",
    "shv = shelve.open(r'shv.db')\n",
    "try:\n",
    "    one = shv[\"one\"]\n",
    "    print(one)\n",
    "finally:\n",
    "    shv.close()\n",
    "    \n",
    "    "
   ]
  },
  {
   "cell_type": "code",
   "execution_count": 60,
   "metadata": {},
   "outputs": [
    {
     "name": "stdout",
     "output_type": "stream",
     "text": [
      "{'e': 1, 'z': 2, 'd': 3}\n"
     ]
    }
   ],
   "source": [
    "# shelve忘记写回，需要使用强制写回\n",
    "shv = shelve.open(r'shv.db')\n",
    "try:\n",
    "    k1 = shv['one']\n",
    "    print(k1)\n",
    "    #此时，一旦shelve关闭，则内容还是存在内存中，没有写回数据库\n",
    "    k1['e'] = 100\n",
    "finally:\n",
    "    shv.close()\n",
    "    "
   ]
  },
  {
   "cell_type": "code",
   "execution_count": 63,
   "metadata": {},
   "outputs": [
    {
     "name": "stdout",
     "output_type": "stream",
     "text": [
      "{'e': 100, 'z': 2, 'd': 3}\n",
      "{'e': 100, 'z': 2, 'd': 3}\n"
     ]
    }
   ],
   "source": [
    "shv = shelve.open(r'shv.db', writeback=True)\n",
    "try:\n",
    "    k1 = shv['one']\n",
    "    print(k1)\n",
    "    k1['e'] = 100\n",
    "finally:\n",
    "    shv.close()\n",
    "    \n",
    "with shelve.open(r'shv.db') as shv:\n",
    "    try:\n",
    "        k1 = shv['one']\n",
    "        print(k1)\n",
    "    except Exception as e:\n",
    "        print(\"error\")"
   ]
  }
 ],
 "metadata": {
  "kernelspec": {
   "display_name": "Python 3",
   "language": "python",
   "name": "python3"
  },
  "language_info": {
   "codemirror_mode": {
    "name": "ipython",
    "version": 3
   },
   "file_extension": ".py",
   "mimetype": "text/x-python",
   "name": "python",
   "nbconvert_exporter": "python",
   "pygments_lexer": "ipython3",
   "version": "3.7.1"
  }
 },
 "nbformat": 4,
 "nbformat_minor": 2
}
