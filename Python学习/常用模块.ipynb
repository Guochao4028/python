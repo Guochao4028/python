{
 "cells": [
  {
   "cell_type": "markdown",
   "metadata": {},
   "source": [
    "# 常用模块\n",
    "- calender\n",
    "- time\n",
    "- datetime\n",
    "- timeit\n",
    "- os\n",
    "- shutil\n",
    "- zip\n",
    "- math\n",
    "- string\n",
    "- 上述所有模块使用理论上都应该先导入，string是特例\n",
    "- calender，time，datetime 的区别参考中文意思"
   ]
  },
  {
   "cell_type": "markdown",
   "metadata": {},
   "source": [
    "# calendar\n",
    "- 跟日历相关的模块"
   ]
  },
  {
   "cell_type": "code",
   "execution_count": 4,
   "metadata": {},
   "outputs": [
    {
     "name": "stdout",
     "output_type": "stream",
     "text": [
      "<class 'str'>\n"
     ]
    }
   ],
   "source": [
    "# 使用需要先导入\n",
    "import calendar\n",
    "# calendar 获取一年的日历字符串\n",
    "#参数\n",
    "#w = 每个日期之间的间隔字符串\n",
    "#l = 每周所占用的行数\n",
    "#c = 每个月之间的间隔字符串\n",
    "cal = calendar.calendar(2019)\n",
    "print(type(cal))\n",
    "# print(cal)"
   ]
  },
  {
   "cell_type": "code",
   "execution_count": 6,
   "metadata": {},
   "outputs": [
    {
     "data": {
      "text/plain": [
       "True"
      ]
     },
     "execution_count": 6,
     "metadata": {},
     "output_type": "execute_result"
    }
   ],
   "source": [
    "# isleap:判断每一年是否是闰年\n",
    "calendar.isleap(2020)"
   ]
  },
  {
   "cell_type": "code",
   "execution_count": 8,
   "metadata": {},
   "outputs": [
    {
     "data": {
      "text/plain": [
       "2"
      ]
     },
     "execution_count": 8,
     "metadata": {},
     "output_type": "execute_result"
    }
   ],
   "source": [
    "#leapdays：获取指定年份之间的闰年的个数\n",
    "calendar.leapdays(2011,2020)"
   ]
  },
  {
   "cell_type": "code",
   "execution_count": 9,
   "metadata": {},
   "outputs": [
    {
     "name": "stdout",
     "output_type": "stream",
     "text": [
      "Help on function leapdays in module calendar:\n",
      "\n",
      "leapdays(y1, y2)\n",
      "    Return number of leap years in range [y1, y2).\n",
      "    Assume y1 <= y2.\n",
      "\n"
     ]
    }
   ],
   "source": [
    "help(calendar.leapdays)"
   ]
  },
  {
   "cell_type": "code",
   "execution_count": 11,
   "metadata": {},
   "outputs": [
    {
     "name": "stdout",
     "output_type": "stream",
     "text": [
      "     April 2019\n",
      "Mo Tu We Th Fr Sa Su\n",
      " 1  2  3  4  5  6  7\n",
      " 8  9 10 11 12 13 14\n",
      "15 16 17 18 19 20 21\n",
      "22 23 24 25 26 27 28\n",
      "29 30\n",
      "\n"
     ]
    }
   ],
   "source": [
    "#moth()获取某个月的日历字符串\n",
    "#格式 calendar.month(年，月)\n",
    "#回值：月日历的字符串\n",
    "m3 = calendar.month(2019,4)\n",
    "print(m3)"
   ]
  },
  {
   "cell_type": "code",
   "execution_count": 16,
   "metadata": {},
   "outputs": [
    {
     "name": "stdout",
     "output_type": "stream",
     "text": [
      "30\n",
      "0\n"
     ]
    }
   ],
   "source": [
    "# monthrange() 获取一个月的周几开始即和天数\n",
    "# 格式 calendar.monthrange(年，月)\n",
    "# 回值 元祖（周几开始， 总天数）\n",
    "# 注意：周默认0-6 表示周一到周天\n",
    "w,t = calendar.monthrange(2019,4)\n",
    "print(t)\n",
    "print(w)"
   ]
  },
  {
   "cell_type": "code",
   "execution_count": 19,
   "metadata": {},
   "outputs": [
    {
     "name": "stdout",
     "output_type": "stream",
     "text": [
      "[[1, 2, 3, 4, 5, 6, 7], [8, 9, 10, 11, 12, 13, 14], [15, 16, 17, 18, 19, 20, 21], [22, 23, 24, 25, 26, 27, 28], [29, 30, 0, 0, 0, 0, 0]]\n"
     ]
    }
   ],
   "source": [
    "#mothcalendar()返回一个月每天矩阵\n",
    "# 格式 calendar.monthcalendar(年，月)\n",
    "# 回值 二级列表\n",
    "# 注意 矩阵中没有天数用0表示\n",
    "m = calendar.monthcalendar(2019,4)\n",
    "print(m)"
   ]
  },
  {
   "cell_type": "code",
   "execution_count": 21,
   "metadata": {},
   "outputs": [],
   "source": [
    "#prcal: 直接打印日历是 print calendar缩写\n",
    "# calendar.prcal(2019)"
   ]
  },
  {
   "cell_type": "code",
   "execution_count": 22,
   "metadata": {},
   "outputs": [],
   "source": [
    "# weekday()获取周几"
   ]
  },
  {
   "cell_type": "markdown",
   "metadata": {},
   "source": [
    "# time 模块\n",
    "### 时间戳\n",
    "    - 一个时间表示，根据不同语言，可以是整数或者浮点数\n",
    "    - 是从1970年1月1日 0 时0 分0秒到现在经历的秒数\n",
    "    - 如果表示的时间是1970年以前或者太遥远的未来，可能出现异常\n",
    "    - 32位系统支持到2038年\n",
    "### UTC时间\n",
    "    - utc又称为世界协调时间\n",
    "    - 中国是UTC+8\n",
    "### 时间元祖\n",
    "    - 一个包含时间内容的普通元祖\n",
    "    "
   ]
  },
  {
   "cell_type": "code",
   "execution_count": 25,
   "metadata": {},
   "outputs": [
    {
     "name": "stdout",
     "output_type": "stream",
     "text": [
      "-28800\n"
     ]
    }
   ],
   "source": [
    "import time\n",
    "#timezen 当前时区和utc时间相差的秒数 没有夏令时\n",
    "print(time.timezone)\n",
    "#altzone 跟timezone区别夏令时\n",
    "#daylight 测当前是否是夏令时转态，0表示是"
   ]
  },
  {
   "cell_type": "code",
   "execution_count": 27,
   "metadata": {},
   "outputs": [
    {
     "data": {
      "text/plain": [
       "1554620249.811371"
      ]
     },
     "execution_count": 27,
     "metadata": {},
     "output_type": "execute_result"
    }
   ],
   "source": [
    "# 得到时间戳\n",
    "time.time()"
   ]
  },
  {
   "cell_type": "code",
   "execution_count": 29,
   "metadata": {},
   "outputs": [
    {
     "data": {
      "text/plain": [
       "time.struct_time(tm_year=2019, tm_mon=4, tm_mday=7, tm_hour=14, tm_min=59, tm_sec=11, tm_wday=6, tm_yday=97, tm_isdst=0)"
      ]
     },
     "execution_count": 29,
     "metadata": {},
     "output_type": "execute_result"
    }
   ],
   "source": [
    "#localtime 得到当前时间结构，可以用点号操作\n",
    "time.localtime()"
   ]
  },
  {
   "cell_type": "code",
   "execution_count": 32,
   "metadata": {},
   "outputs": [
    {
     "name": "stdout",
     "output_type": "stream",
     "text": [
      "Sun Apr  7 15:01:25 2019\n"
     ]
    }
   ],
   "source": [
    "#asctime()返回元祖的正常字符串化之后的时间格式\n",
    "# 格式 time.asctime(时间元祖)\n",
    "# 返回值 字符串\n",
    "t = time.asctime(time.localtime())\n",
    "print(t)"
   ]
  },
  {
   "cell_type": "code",
   "execution_count": 34,
   "metadata": {},
   "outputs": [
    {
     "name": "stdout",
     "output_type": "stream",
     "text": [
      "Sun Apr  7 15:02:31 2019\n"
     ]
    }
   ],
   "source": [
    "#ctime 获取字符串化的当前时间\n",
    "print(time.ctime())"
   ]
  },
  {
   "cell_type": "code",
   "execution_count": 38,
   "metadata": {},
   "outputs": [
    {
     "name": "stdout",
     "output_type": "stream",
     "text": [
      "1554620742.0\n"
     ]
    }
   ],
   "source": [
    "# mktime()使用时间元祖获取对应的时间戳\n",
    "# 格式 time.mktime(时间元祖)\n",
    "# 返回值 浮点时间戳\n",
    "print(time.mktime(time.localtime()))"
   ]
  },
  {
   "cell_type": "code",
   "execution_count": 40,
   "metadata": {},
   "outputs": [
    {
     "name": "stdout",
     "output_type": "stream",
     "text": [
      "2761.945746133\n"
     ]
    },
    {
     "name": "stderr",
     "output_type": "stream",
     "text": [
      "C:\\Users\\panpan\\Anaconda3\\lib\\site-packages\\ipykernel_launcher.py:2: DeprecationWarning: time.clock has been deprecated in Python 3.3 and will be removed from Python 3.8: use time.perf_counter or time.process_time instead\n",
      "  \n"
     ]
    }
   ],
   "source": [
    "# clock 获取cpu时间\n",
    "print(time.clock())"
   ]
  },
  {
   "cell_type": "code",
   "execution_count": 45,
   "metadata": {},
   "outputs": [],
   "source": [
    "# sleep:使程序进入睡眠，n秒后继续\n",
    "# for i in range(10):\n",
    "#     print(i)\n",
    "#     time.sleep(1)"
   ]
  },
  {
   "cell_type": "code",
   "execution_count": 62,
   "metadata": {},
   "outputs": [
    {
     "name": "stdout",
     "output_type": "stream",
     "text": [
      "2019-04-08 14:04\n"
     ]
    }
   ],
   "source": [
    "import time\n",
    "# strftime: 将时间元祖转化为自定义的字符串格式\n",
    "t = time.localtime()\n",
    "strT = time.strftime(\"%Y-%m-%d %H:%m\",t)\n",
    "print(strT)"
   ]
  },
  {
   "cell_type": "markdown",
   "metadata": {},
   "source": [
    "# datetime 模块\n",
    "- 提供日期和时间的运算和表示\n",
    "## datetime常见属性\n",
    "### datetiem.date 一个理想和的日期，提供year，month， day属性"
   ]
  },
  {
   "cell_type": "code",
   "execution_count": 64,
   "metadata": {},
   "outputs": [
    {
     "name": "stdout",
     "output_type": "stream",
     "text": [
      "2019-04-08\n",
      "8\n",
      "2019\n"
     ]
    }
   ],
   "source": [
    "import datetime\n",
    "print(datetime.date(2019,4,8))\n",
    "dt = datetime.date(2019,4,8)\n",
    "print(dt.day)\n",
    "print(dt.year)\n",
    "#datetime.time 提供一个理想和的时间 hour,minute,sec,microsec\n",
    "#datetime.datetime 提供日期跟时间组合\n",
    "#datatime.timedalta 提供时间差，时间长度"
   ]
  },
  {
   "cell_type": "code",
   "execution_count": 66,
   "metadata": {},
   "outputs": [
    {
     "name": "stdout",
     "output_type": "stream",
     "text": [
      "2019-04-08 14:24:45.893054\n",
      "2019-04-08 14:24:45.893053\n",
      "2019-04-08 14:24:45.893054\n"
     ]
    }
   ],
   "source": [
    "from datetime import datetime\n",
    "# 常用类方法\n",
    "# today\n",
    "#now\n",
    "#uctnow\n",
    "#formtimestamp 从时间戳返回本地时间\n",
    "dt = datetime(2019,4,8)\n",
    "print(dt.today())\n",
    "print(dt.now())\n",
    "print(dt.fromtimestamp(time.time()))"
   ]
  },
  {
   "cell_type": "code",
   "execution_count": 69,
   "metadata": {},
   "outputs": [
    {
     "name": "stdout",
     "output_type": "stream",
     "text": [
      "19-04-08 15:28:03\n"
     ]
    }
   ],
   "source": [
    "#datetime.timedelta 表示一个时间间隔\n",
    "from datetime import datetime, timedelta\n",
    "t1 = datetime.now()\n",
    "td = timedelta(hours = 1)\n",
    "print((t1+td).strftime(\"%y-%m-%d %H:%M:%S\"))"
   ]
  },
  {
   "cell_type": "code",
   "execution_count": 72,
   "metadata": {},
   "outputs": [
    {
     "name": "stdout",
     "output_type": "stream",
     "text": [
      "3.600205659866333\n"
     ]
    }
   ],
   "source": [
    "# timeit - 时间测量工具\n",
    "def p():\n",
    "    time.sleep(3.6)\n",
    "t1 = time.time()\n",
    "p()\n",
    "print(time.time() - t1)\n"
   ]
  },
  {
   "cell_type": "code",
   "execution_count": 78,
   "metadata": {},
   "outputs": [
    {
     "name": "stdout",
     "output_type": "stream",
     "text": [
      "4.684679447993403\n",
      "9.061546338009066\n"
     ]
    }
   ],
   "source": [
    "# import timeit\n",
    "# # 生成列表两种方式的比较\n",
    "# # 如果单纯比较生成一个列表的时间，可能很难实现\n",
    "# c = '''\n",
    "# sum = []\n",
    "# for i in range(1000):\n",
    "#     sum.append(i)\n",
    "# '''\n",
    "# # 利用timeit调用代码 执行10000次 查看运行时间\n",
    "# t1 = timeit.timeit(stmt= \"[i for i in range(1000)]\", number = 100000)\n",
    "# t2 = timeit.timeit(stmt = c, number = 100000)\n",
    "# print(t1)\n",
    "# print(t2)"
   ]
  },
  {
   "cell_type": "code",
   "execution_count": 80,
   "metadata": {},
   "outputs": [
    {
     "name": "stdout",
     "output_type": "stream",
     "text": [
      "Help on function timeit in module timeit:\n",
      "\n",
      "timeit(stmt='pass', setup='pass', timer=<built-in function perf_counter>, number=1000000, globals=None)\n",
      "    Convenience function to create Timer object and call timeit method.\n",
      "\n"
     ]
    }
   ],
   "source": [
    "help(timeit.timeit)"
   ]
  },
  {
   "cell_type": "code",
   "execution_count": 86,
   "metadata": {},
   "outputs": [
    {
     "ename": "IndentationError",
     "evalue": "expected an indented block (<ipython-input-86-d7363a29484b>, line 7)",
     "output_type": "error",
     "traceback": [
      "\u001b[1;36m  File \u001b[1;32m\"<ipython-input-86-d7363a29484b>\"\u001b[1;36m, line \u001b[1;32m7\u001b[0m\n\u001b[1;33m    t = timeit.timeit(stmt = doIt,number = 10)\u001b[0m\n\u001b[1;37m                                              ^\u001b[0m\n\u001b[1;31mIndentationError\u001b[0m\u001b[1;31m:\u001b[0m expected an indented block\n"
     ]
    }
   ],
   "source": [
    "# timeit 可执行一个函数，来测量一个函数的执行时间\n",
    "def doIt():\n",
    "    num = 3\n",
    "#     for i in range(num):\n",
    "#         print(\"Repeat for {0}\".format(i))\n",
    "#执行函数，重复10次\n",
    "t = timeit.timeit(stmt = doIt,number = 10)\n",
    "print(t)"
   ]
  },
  {
   "cell_type": "code",
   "execution_count": 101,
   "metadata": {},
   "outputs": [
    {
     "ename": "SyntaxError",
     "evalue": "invalid syntax (<timeit-src>, line 5)",
     "output_type": "error",
     "traceback": [
      "Traceback \u001b[1;36m(most recent call last)\u001b[0m:\n",
      "  File \u001b[0;32m\"C:\\Users\\panpan\\Anaconda3\\lib\\site-packages\\IPython\\core\\interactiveshell.py\"\u001b[0m, line \u001b[0;32m3267\u001b[0m, in \u001b[0;35mrun_code\u001b[0m\n    exec(code_obj, self.user_global_ns, self.user_ns)\n",
      "  File \u001b[0;32m\"<ipython-input-101-8b3d4f192d7f>\"\u001b[0m, line \u001b[0;32m8\u001b[0m, in \u001b[0;35m<module>\u001b[0m\n    t = timeit.timeit(\"doIt(a)\", setup=s+\"a=3\", number=10)\n",
      "  File \u001b[0;32m\"C:\\Users\\panpan\\Anaconda3\\lib\\timeit.py\"\u001b[0m, line \u001b[0;32m232\u001b[0m, in \u001b[0;35mtimeit\u001b[0m\n    return Timer(stmt, setup, timer, globals).timeit(number)\n",
      "\u001b[1;36m  File \u001b[1;32m\"C:\\Users\\panpan\\Anaconda3\\lib\\timeit.py\"\u001b[1;36m, line \u001b[1;32m109\u001b[1;36m, in \u001b[1;35m__init__\u001b[1;36m\u001b[0m\n\u001b[1;33m    compile(setup, dummy_src_name, \"exec\")\u001b[0m\n",
      "\u001b[1;36m  File \u001b[1;32m\"<timeit-src>\"\u001b[1;36m, line \u001b[1;32m5\u001b[0m\n\u001b[1;33m    a=3\u001b[0m\n\u001b[1;37m    ^\u001b[0m\n\u001b[1;31mSyntaxError\u001b[0m\u001b[1;31m:\u001b[0m invalid syntax\n"
     ]
    }
   ],
   "source": [
    "s = '''\n",
    "def doIt(a):\n",
    "    for i in range(a):\n",
    "       print(\"Repeat for {0}\".format(i)\n",
    "'''\n",
    "#执行doIt（num）\n",
    "#setup负责把环境变量准备好\n",
    "t = timeit.timeit(\"doIt(a)\", setup=s+\"a=3\", number=10)\n",
    "print(t)"
   ]
  },
  {
   "cell_type": "markdown",
   "metadata": {},
   "source": [
    "# datetime.datetime \n",
    "- 提供一个比较好用时间"
   ]
  },
  {
   "cell_type": "code",
   "execution_count": null,
   "metadata": {},
   "outputs": [],
   "source": [
    "from datetime import datetime ad"
   ]
  }
 ],
 "metadata": {
  "kernelspec": {
   "display_name": "Python 3",
   "language": "python",
   "name": "python3"
  },
  "language_info": {
   "codemirror_mode": {
    "name": "ipython",
    "version": 3
   },
   "file_extension": ".py",
   "mimetype": "text/x-python",
   "name": "python",
   "nbconvert_exporter": "python",
   "pygments_lexer": "ipython3",
   "version": "3.7.1"
  }
 },
 "nbformat": 4,
 "nbformat_minor": 2
}
