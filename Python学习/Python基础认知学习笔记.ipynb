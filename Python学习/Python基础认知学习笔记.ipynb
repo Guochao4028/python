{
 "cells": [
  {
   "cell_type": "code",
   "execution_count": 1,
   "metadata": {},
   "outputs": [
    {
     "name": "stdout",
     "output_type": "stream",
     "text": [
      "18\n"
     ]
    }
   ],
   "source": [
    "# 变量\n",
    "varName = 18\n",
    "print(varName)"
   ]
  },
  {
   "cell_type": "code",
   "execution_count": 37,
   "metadata": {},
   "outputs": [
    {
     "name": "stdout",
     "output_type": "stream",
     "text": [
      "['False', 'None', 'True', 'and', 'as', 'assert', 'async', 'await', 'break', 'class', 'continue', 'def', 'del', 'elif', 'else', 'except', 'finally', 'for', 'from', 'global', 'if', 'import', 'in', 'is', 'lambda', 'nonlocal', 'not', 'or', 'pass', 'raise', 'return', 'try', 'while', 'with', 'yield']\n"
     ]
    }
   ],
   "source": [
    "#关键字\n",
    "import keyword #引关键字包\n",
    "print(keyword.kwlist)"
   ]
  },
  {
   "cell_type": "code",
   "execution_count": 2,
   "metadata": {},
   "outputs": [
    {
     "name": "stdout",
     "output_type": "stream",
     "text": [
      "test\n"
     ]
    }
   ],
   "source": [
    "varStr = \"test\"\n",
    "print(varStr)"
   ]
  },
  {
   "cell_type": "code",
   "execution_count": 3,
   "metadata": {},
   "outputs": [
    {
     "name": "stdout",
     "output_type": "stream",
     "text": [
      "1 2 3\n"
     ]
    }
   ],
   "source": [
    "age,age1,age2 = 1,2,3\n",
    "print(age,age1,age2)"
   ]
  },
  {
   "cell_type": "code",
   "execution_count": 1,
   "metadata": {},
   "outputs": [
    {
     "name": "stdout",
     "output_type": "stream",
     "text": [
      "91 91 91\n"
     ]
    }
   ],
   "source": [
    "age = age1 = age2 = 91\n",
    "print(age,age1,age2)"
   ]
  },
  {
   "cell_type": "markdown",
   "metadata": {},
   "source": [
    "写学习笔记，notebook"
   ]
  },
  {
   "cell_type": "markdown",
   "metadata": {},
   "source": [
    "markdown需要学习"
   ]
  },
  {
   "cell_type": "code",
   "execution_count": 4,
   "metadata": {},
   "outputs": [
    {
     "name": "stdout",
     "output_type": "stream",
     "text": [
      "adf\n"
     ]
    }
   ],
   "source": [
    "#打印字符串\n",
    "print(\"adf\")\n"
   ]
  },
  {
   "cell_type": "markdown",
   "metadata": {},
   "source": [
    "# 变量\n",
    "- markdoem 跟vim模式很像\n",
    "- 变量 不需要前置声明类型\n"
   ]
  },
  {
   "cell_type": "code",
   "execution_count": 14,
   "metadata": {},
   "outputs": [
    {
     "name": "stdout",
     "output_type": "stream",
     "text": [
      "str : p str : p asdf1 3 asdf2\n"
     ]
    }
   ],
   "source": [
    "str1 = \"asdf\"\n",
    "str2 = str1 = \"str : p\"\n",
    "str3, str4, str5 = \"asdf1\",3,\"asdf2\"\n",
    "print(str1,str2,str3,str4,str5)"
   ]
  },
  {
   "cell_type": "markdown",
   "metadata": {},
   "source": [
    "# 变量类型\n",
    "- Python 弱类型\n",
    "- 严格意义上讲，Python只有一种类型\n",
    "- 数字 number\n",
    "- 字符串 str\n",
    "- 列表 list\n",
    "- 元祖 tuple\n",
    "- 字典 dict\n",
    "- 集合 set "
   ]
  },
  {
   "cell_type": "markdown",
   "metadata": {},
   "source": [
    "# 数字类型 number\n",
    "- Python数字没有大小限制\n",
    "# 常见数字分类\n",
    "- 整数\n",
    " - 包含正数，负数， 0\n",
    " - 二进制 以0b开头的就是二进制，例：0b10101\n",
    " - 八进制 以0o开头就是八进制，例：0o77\n",
    " - 十六进制 以0x开头就是十六进制 ， 例：oxaf\n",
    "- 浮点数\n",
    "- 科学计数\n",
    "- 复数"
   ]
  },
  {
   "cell_type": "code",
   "execution_count": 15,
   "metadata": {
    "scrolled": true
   },
   "outputs": [
    {
     "name": "stdout",
     "output_type": "stream",
     "text": [
      "3\n"
     ]
    }
   ],
   "source": [
    "#二进制\n",
    "s1 = 0b011\n",
    "print(s1)"
   ]
  },
  {
   "cell_type": "code",
   "execution_count": 17,
   "metadata": {},
   "outputs": [
    {
     "name": "stdout",
     "output_type": "stream",
     "text": [
      "63\n"
     ]
    }
   ],
   "source": [
    "#八进制\n",
    "si = 0o77\n",
    "print(si)"
   ]
  },
  {
   "cell_type": "code",
   "execution_count": 21,
   "metadata": {
    "scrolled": false
   },
   "outputs": [
    {
     "name": "stdout",
     "output_type": "stream",
     "text": [
      "174\n"
     ]
    }
   ],
   "source": [
    "#十六进制\n",
    "so = 0xae\n",
    "print(so)"
   ]
  },
  {
   "cell_type": "markdown",
   "metadata": {},
   "source": [
    "# 浮点数\n",
    "- 小数\n",
    "- 常见的格式 \n",
    " - .4 = 0.4\n",
    "# 科学计数法\n",
    "- 跟数学上定义的一样\n",
    "- 写法就是e后跟整数用来表示10的倍数\n"
   ]
  },
  {
   "cell_type": "code",
   "execution_count": 25,
   "metadata": {},
   "outputs": [
    {
     "name": "stdout",
     "output_type": "stream",
     "text": [
      "175.0\n",
      "0.2\n"
     ]
    }
   ],
   "source": [
    "#科学计数法\n",
    "height= 1.75e2 # 1.75 * 10^2\n",
    "print(height)\n",
    "\n",
    "#浮点数\n",
    "f = .2\n",
    "print (f)"
   ]
  },
  {
   "cell_type": "markdown",
   "metadata": {},
   "source": [
    "# 复数\n",
    "- 跟数学定义一样\n",
    "- 复数用虚部表示 j/J 表示 例：5+4j / 4j / (4j)"
   ]
  },
  {
   "cell_type": "code",
   "execution_count": 27,
   "metadata": {},
   "outputs": [
    {
     "name": "stdout",
     "output_type": "stream",
     "text": [
      "4j\n"
     ]
    }
   ],
   "source": [
    "a = 4j\n",
    "print(a)"
   ]
  },
  {
   "cell_type": "markdown",
   "metadata": {},
   "source": [
    "# 布尔值\n",
    "- 表示 真假\n",
    "- 只有两个值 True / False\n",
    "- 在Python中，布尔值可以当数字使用\n",
    " - 布尔值如果当数字使用 True = 1, False = 0\n",
    " - 如果用数字当做布尔值使用，0= False，其余当做True"
   ]
  },
  {
   "cell_type": "code",
   "execution_count": 31,
   "metadata": {},
   "outputs": [
    {
     "name": "stdout",
     "output_type": "stream",
     "text": [
      "19\n",
      "18\n",
      "ture\n"
     ]
    }
   ],
   "source": [
    "#布尔值 \n",
    "age = 18 + True\n",
    "print(age)\n",
    "\n",
    "age = 18 + False\n",
    "print (age)\n",
    "\n",
    "#判断语句\n",
    "a = -1\n",
    "if a:\n",
    "    print(\"ture\")\n",
    "else :\n",
    "    print(\"false\")\n"
   ]
  },
  {
   "cell_type": "markdown",
   "metadata": {},
   "source": [
    "# 字符串\n",
    "- 表达文字信息\n",
    "- 形式上用引号引起来的一段内容\n",
    "- 引号 单双引号只能表示一行信息\n",
    "  - 单引号\n",
    "  - 双引号\n",
    "  - 三引号 可以用来表示多行信息\n",
    "- 单双引号含义一致字符\n",
    "\n",
    "## 转义字符\n",
    "- 用一个特殊的方法表示出一系列不方便写的内容，例：回车，换行，退格\n",
    "- 借助反斜杠，一旦字符串中出现反斜杠则反斜杠后一个或几个字符表示已经不是原来的意思，进行转义\n",
    "- 注意字符串中转义符号\n",
    "- 不同系统对换行符解释不同"
   ]
  },
  {
   "cell_type": "code",
   "execution_count": 43,
   "metadata": {
    "scrolled": true
   },
   "outputs": [
    {
     "name": "stdout",
     "output_type": "stream",
     "text": [
      "adfdsf\n",
      "asdfasdf\n",
      "\n",
      "adsf\n",
      "asdf\n",
      "asdfqw\n",
      "er\n",
      "qwe\n",
      "adsf·\n",
      "\n",
      "let's go\n",
      "let's go\n",
      "s:\\user\n"
     ]
    }
   ],
   "source": [
    "#字符串\n",
    "love = \"adfdsf\"\n",
    "print(love)\n",
    "\n",
    "love1 = 'asdfasdf'\n",
    "print(love1)\n",
    "\n",
    "love2 = \"\"\"\n",
    "adsf\n",
    "asdf\n",
    "asdfqw\n",
    "er\n",
    "qwe\n",
    "adsf·\n",
    "\"\"\"\n",
    "print(love2)\n",
    "\n",
    "\n",
    "# 如果想表示let's go\n",
    "#1， 可以使用引号嵌套法\n",
    "#2， 转义字符\n",
    "s = \"let's go\"\n",
    "print(s)\n",
    "\n",
    "s = 'let\\'s go'\n",
    "print(s)\n",
    "\n",
    "str = \"s:\\\\user\"\n",
    "print(str)\n",
    "\n",
    "#回车换行符 \\r \\n\n"
   ]
  },
  {
   "cell_type": "markdown",
   "metadata": {},
   "source": [
    "## 字符串的格式化\n",
    "- 把字符串按照一定格式打印或填充\n",
    "- 格式化由两种方法\n",
    "    - 利用%\n",
    "    - 利用 format"
   ]
  },
  {
   "cell_type": "code",
   "execution_count": 44,
   "metadata": {},
   "outputs": [],
   "source": [
    "s = \"xxx 你好\""
   ]
  },
  {
   "cell_type": "markdown",
   "metadata": {},
   "source": [
    "# 利用百分号格式化\n",
    "- 在字符串中，利用%表示一个特殊的含义，表示对字符串进行格式化\n",
    "- %d：此处应该放入一个整数\n",
    "- %s：此处放入一个字符串"
   ]
  },
  {
   "cell_type": "code",
   "execution_count": 55,
   "metadata": {},
   "outputs": [
    {
     "name": "stdout",
     "output_type": "stream",
     "text": [
      "%d, 你好\n"
     ]
    }
   ],
   "source": [
    "s = \"%d, 你好\"\n",
    "#下面直接把%d打印出来了\n",
    "print(s)"
   ]
  },
  {
   "cell_type": "code",
   "execution_count": 57,
   "metadata": {},
   "outputs": [
    {
     "name": "stdout",
     "output_type": "stream",
     "text": [
      "i love adf\n"
     ]
    }
   ],
   "source": [
    "print(\"i love %s\"%\"adf\")"
   ]
  },
  {
   "cell_type": "code",
   "execution_count": 60,
   "metadata": {},
   "outputs": [
    {
     "name": "stdout",
     "output_type": "stream",
     "text": [
      "1 nihao\n"
     ]
    }
   ],
   "source": [
    "s = \"%d nihao\"\n",
    "print(s % 1)"
   ]
  },
  {
   "cell_type": "code",
   "execution_count": 62,
   "metadata": {},
   "outputs": [
    {
     "name": "stdout",
     "output_type": "stream",
     "text": [
      "i am %d years old\n",
      "i am 18 years old\n"
     ]
    }
   ],
   "source": [
    "s = \"i am %d years old\"\n",
    "print(s)\n",
    "print(s % 18)"
   ]
  },
  {
   "cell_type": "code",
   "execution_count": 65,
   "metadata": {},
   "outputs": [
    {
     "name": "stdout",
     "output_type": "stream",
     "text": [
      "i'm %s, i'm %d years old\n",
      "i'm asdf, i'm 18 years old\n"
     ]
    }
   ],
   "source": [
    "s = \"i'm %s, i'm %d years old\"\n",
    "print(s)\n",
    "print(s%(\"asdf\",18))"
   ]
  },
  {
   "cell_type": "markdown",
   "metadata": {},
   "source": [
    "### format函数格式化字符串\n",
    "- 直接用format函数进行格式化\n",
    "- 推荐用这种方法\n",
    "- 在使用上，以｛｝和.代替%号"
   ]
  },
  {
   "cell_type": "code",
   "execution_count": 69,
   "metadata": {},
   "outputs": [
    {
     "name": "stdout",
     "output_type": "stream",
     "text": [
      "i love asdf\n",
      "i love 1, and adsf, who:1,wer:18\n"
     ]
    }
   ],
   "source": [
    "s = 'i love {}'.format(\"asdf\")\n",
    "print(s)\n",
    "\n",
    "s = \"i love {1}, and{0}, who:{1},wer:{2}\".format(\" adsf\",1,18)\n",
    "print(s)"
   ]
  },
  {
   "cell_type": "markdown",
   "metadata": {},
   "source": [
    "# None类型\n",
    "- 表示没有，通常用来占位 例：用来表示返回一个空\n",
    "- 解除变量的绑定"
   ]
  },
  {
   "cell_type": "markdown",
   "metadata": {},
   "source": [
    "# 表达式\n",
    "- 由一个或几个数字或者变量或者运算符 合成的一行代码\n",
    "- 通常返回一个结果\n",
    "\n",
    "# 运算符\n",
    "- 由一个以上的值经过一系列运算的过程就叫运算\n",
    "- 用来操作运算的符号就叫运算符\n",
    "- 运算符分类\n",
    "    - 算数运算符\n",
    "    - 比较或者关系运算符\n",
    "    - 赋值运算符\n",
    "    - 逻辑运算符\n",
    "    - 位运算符\n",
    "    - 成员运算符\n",
    "    - 身份运算符\n"
   ]
  },
  {
   "cell_type": "code",
   "execution_count": 38,
   "metadata": {},
   "outputs": [],
   "source": [
    "# 表达式\n",
    "a = 1+2"
   ]
  },
  {
   "cell_type": "markdown",
   "metadata": {},
   "source": [
    "## 算数运算符\n",
    "- 用来进行算数运算的符号\n",
    "- 通常用来表示加减乘除\n",
    "- Python没有自增自减 运算符"
   ]
  },
  {
   "cell_type": "code",
   "execution_count": 70,
   "metadata": {
    "scrolled": true
   },
   "outputs": [
    {
     "name": "stdout",
     "output_type": "stream",
     "text": [
      "8\n",
      "11\n",
      "16\n",
      "4.5\n",
      "4\n",
      "1\n",
      "-3\n",
      "6561\n"
     ]
    }
   ],
   "source": [
    "#算数运算符\n",
    "#加减乘除 跟数学 基本一致\n",
    "a = 9 - 1\n",
    "print(a)\n",
    "b = 9 + 2\n",
    "print(b)\n",
    "c = 8 *2\n",
    "print(c)\n",
    "#python 除法 分为 普通除法， 地板除 ， 取余\n",
    "\n",
    "#普通除法\n",
    "a = 9 / 2\n",
    "print(a)\n",
    "\n",
    "#地板除 取整\n",
    "a = 9 // 2\n",
    "print(a)\n",
    "\n",
    "#取余\n",
    "#两处相除有商数有余数\n",
    "# % 只会取余数\n",
    "a = 9 % 2\n",
    "print(a)\n",
    "\n",
    "#取余 负数的结果 参考数学定义\n",
    "a = 9 % -4  #（9-x）/ (-4) = y 余 0\n",
    "print(a)\n",
    "\n",
    "# ** 表示幂运算\n",
    "a = 9 ** 4\n",
    "print(a)\n"
   ]
  },
  {
   "cell_type": "markdown",
   "metadata": {},
   "source": [
    "# 比较运算符\n",
    "- 对两个变量或者值进行比较运算\n",
    "- 比较结果是布尔值 即 True/False"
   ]
  },
  {
   "cell_type": "code",
   "execution_count": 77,
   "metadata": {},
   "outputs": [
    {
     "name": "stdout",
     "output_type": "stream",
     "text": [
      "False\n",
      "True\n"
     ]
    }
   ],
   "source": [
    "# == ，等于号\n",
    "a = 3 ** 4\n",
    "# 下面语句执行顺序\n",
    "# 1，计算 a == 80\n",
    "# 2， 把结果放入 b\n",
    "b = a == 80\n",
    "print(b)\n",
    "\n",
    "# != ,不等于\n",
    "print(9 != 8)\n",
    "\n",
    "# > 大于\n",
    "#< 小于\n",
    "# >= 大于等于\n",
    "#<= 小于等于"
   ]
  },
  {
   "cell_type": "markdown",
   "metadata": {},
   "source": [
    "# 赋值运算符"
   ]
  },
  {
   "cell_type": "code",
   "execution_count": 79,
   "metadata": {},
   "outputs": [
    {
     "name": "stdout",
     "output_type": "stream",
     "text": [
      "7\n"
     ]
    }
   ],
   "source": [
    "# = ，赋值\n",
    "a = 0\n",
    "c = a = 4\n",
    "\n",
    "# += ,是缩写\n",
    "a = 0\n",
    "a += 7 # a = a + 7的缩写\n",
    "print(a)\n",
    "\n",
    "#所有的数学运算符都有缩写形式\n",
    "# -=, *=,/=,//=,%=,**= 都是缩写形式"
   ]
  },
  {
   "cell_type": "markdown",
   "metadata": {},
   "source": [
    "# 逻辑运算符\n",
    "- 对布尔值进行计算的符号\n",
    "- and 逻辑与\n",
    "- or 逻辑或\n",
    "- not 逻辑非\n",
    "- Python中逻辑运算没有异或运算\n",
    "- 运算规程\n",
    "    - and 看做乘法 ， or 看做加法\n",
    "    - True 看做1， False看做0\n",
    "    - 则逻辑运算就能转成数学运算\n",
    "    - 最后结果是0 为False, 1 为True\n",
    "- 逻辑运算短路问题\n",
    "    - 逻辑运算式，按照运算顺序计算，一旦能够确定整个式子未来的值，则不再进行计算，直接返回"
   ]
  },
  {
   "cell_type": "code",
   "execution_count": 81,
   "metadata": {},
   "outputs": [
    {
     "name": "stdout",
     "output_type": "stream",
     "text": [
      "True\n"
     ]
    }
   ],
   "source": [
    "# 逻辑运算\n",
    "a = True\n",
    "b = False\n",
    "c = True\n",
    "\n",
    "d = a and b or c # 1 * 0 +1\n",
    "print(d)\n"
   ]
  },
  {
   "cell_type": "code",
   "execution_count": 85,
   "metadata": {},
   "outputs": [
    {
     "ename": "SyntaxError",
     "evalue": "invalid syntax (<ipython-input-85-ad8300655dfa>, line 10)",
     "output_type": "error",
     "traceback": [
      "\u001b[1;36m  File \u001b[1;32m\"<ipython-input-85-ad8300655dfa>\"\u001b[1;36m, line \u001b[1;32m10\u001b[0m\n\u001b[1;33m    a = a or (b = 9) and 6\u001b[0m\n\u001b[1;37m                ^\u001b[0m\n\u001b[1;31mSyntaxError\u001b[0m\u001b[1;31m:\u001b[0m invalid syntax\n"
     ]
    }
   ],
   "source": [
    "#逻辑短路 \n",
    "# 下面的逻辑表达式 ，a的值一定是True 则运行到or的时候，整个表达式不再向下计算\n",
    "a = True or xxxxxxxxxxxxxxxx\n",
    "\n",
    "#下面表达式，如果xxx中包含赋值表达式，则结果很难预期\n",
    "#代码示例（伪代码）\n",
    "b = 0\n",
    "#假定下面的表达式如果没有语法错误\n",
    "#则b最终的值应该是0不是9\n",
    "a = a or (b = 9) and 6\n",
    "print(b)\n",
    "print(a)"
   ]
  },
  {
   "cell_type": "markdown",
   "metadata": {},
   "source": [
    "# 成员运算符号\n",
    "- 用来检测某一个变量是否是另一个变量的成员\n",
    "- in\n",
    "- not in"
   ]
  },
  {
   "cell_type": "code",
   "execution_count": 87,
   "metadata": {},
   "outputs": [
    {
     "name": "stdout",
     "output_type": "stream",
     "text": [
      "False\n",
      "True\n",
      "False\n"
     ]
    }
   ],
   "source": [
    "l = [1,2,3,4,5]\n",
    "a = 7\n",
    "b = a in l\n",
    "print(b)\n",
    "\n",
    "a = 4\n",
    "print(a in l)\n",
    "\n",
    "print(a not in l)"
   ]
  },
  {
   "cell_type": "markdown",
   "metadata": {},
   "source": [
    "# 身份运算\n",
    "- is :用来检测两个变量是否是同一个变量\n",
    "    - 语法 var1 is var2\n",
    "- is not 两个变量不是同一个变量"
   ]
  },
  {
   "cell_type": "code",
   "execution_count": 90,
   "metadata": {},
   "outputs": [
    {
     "name": "stdout",
     "output_type": "stream",
     "text": [
      "True\n",
      "False\n"
     ]
    }
   ],
   "source": [
    "a = 9\n",
    "b = 9\n",
    "print(a is b)\n",
    "\n",
    "a = \"i love\"\n",
    "b = \"i love\"\n",
    "print(a is b)"
   ]
  },
  {
   "cell_type": "markdown",
   "metadata": {},
   "source": [
    "## 运算符的优先级问题\n",
    "- 永远记住，括号具有最高优先级\n",
    "- 优先级说明\n",
    "    \n",
    "    \n",
    "         ** 指数（最高优先级）\n",
    "         - + - 按位翻转， 一元加号和减号（最后两个的方法名为+@和-@）\n",
    "         * / % // 乘，除，取余，整除\n",
    "         + - 加法减法\n",
    "         >> << 左移右移\n",
    "         & 位 ‘and’\n",
    "         ^ |位运算符\n",
    "         <= < > >= 比较运算\n",
    "         == != 等于运算\n",
    "         = %= /= //= *= += -= **= 赋值运算\n",
    "         is is not 身份运算\n",
    "         in not in 成员运算\n",
    "         not or and 逻辑运算"
   ]
  },
  {
   "cell_type": "markdown",
   "metadata": {},
   "source": [
    "# 程序结构\n",
    "- 顺序\n",
    "- 分支\n",
    "- 循环"
   ]
  },
  {
   "cell_type": "markdown",
   "metadata": {},
   "source": [
    "# 分支\n",
    "- 分支的基本语法     \n",
    "        \n",
    "        if 条件表达式：\n",
    "            语句1\n",
    "            语句2\n",
    "            语句3\n",
    "            .........\n",
    "            \n",
    "- 条件表达式就是计算结果必须为布尔值的表达式\n",
    "- 表达式后面的冒号不能少\n",
    "- 注意if后面的出现的语句，如果属于if语句块，则必须同一个缩进等级\n",
    "- 条件表达式结果为True执行if后面的缩进的语句块\n"
   ]
  },
  {
   "cell_type": "code",
   "execution_count": 94,
   "metadata": {},
   "outputs": [
    {
     "name": "stdout",
     "output_type": "stream",
     "text": [
      "adf\n"
     ]
    }
   ],
   "source": [
    "#if语句练习\n",
    "#如果age小于18岁，则打印信息“adf”\n",
    "\n",
    "age = 17\n",
    "if age < 18:\n",
    "    print(\"adf\")"
   ]
  },
  {
   "cell_type": "code",
   "execution_count": 96,
   "metadata": {},
   "outputs": [
    {
     "name": "stdout",
     "output_type": "stream",
     "text": [
      "123\n"
     ]
    }
   ],
   "source": [
    "age = 19\n",
    "if age < 18:\n",
    "    print(\"adf\")\n",
    "print(123)"
   ]
  },
  {
   "cell_type": "markdown",
   "metadata": {},
   "source": [
    "### 双向分支\n",
    "- if...else...语句\n",
    "\n",
    "        if 条件表达式:\n",
    "            语句1\n",
    "            语句2\n",
    "            ....\n",
    "        else:\n",
    "            语句1\n",
    "            语句2\n",
    "            ....\n",
    "            \n",
    "- 双向分支有两个分支，当程序执行if..else...语句的时候,一定会执行if或者else中的一个,也仅执行一个\n",
    "- 缩进问题, if和else一个层级,其他语句一个层级\n",
    "        "
   ]
  },
  {
   "cell_type": "code",
   "execution_count": 104,
   "metadata": {},
   "outputs": [
    {
     "name": "stdout",
     "output_type": "stream",
     "text": [
      "输入性别:\n",
      "输入的性别为:\n",
      "b\n",
      "c\n"
     ]
    }
   ],
   "source": [
    "#input 的作用\n",
    "#1，在屏幕上输出括号内的字符串\n",
    "#2，接受用户输入的内容病返回程序\n",
    "#3，input返回的内容一个是字符串类型\n",
    "\n",
    "gander = input(\"输入性别:\")\n",
    "print(\"输入的性别为:{0}\".format(gander))\n",
    "if gander == \"nan\":\n",
    "    print(\"a\")\n",
    "else:\n",
    "    print(\"b\")\n",
    "print(\"c\")\n"
   ]
  },
  {
   "cell_type": "code",
   "execution_count": 113,
   "metadata": {},
   "outputs": [
    {
     "name": "stdout",
     "output_type": "stream",
     "text": [
      "输入成绩90\n",
      "良\n"
     ]
    }
   ],
   "source": [
    "#考试成绩\n",
    "#90以上：优秀\n",
    "#80-90：良\n",
    "#70-80：中\n",
    "#60-70：平\n",
    "#60 以下：差\n",
    "cj = input(\"输入成绩\")\n",
    "\n",
    "#需要把字符串转成int\n",
    "cj = int(cj)\n",
    "\n",
    "if cj > 90:\n",
    "    print(\"优秀\")\n",
    "elif cj >80 and cj <= 90:\n",
    "    print(\"良\")\n",
    "elif cj >70 and cj <= 80:\n",
    "    print(\"中\")\n",
    "elif cj > 60 and cj <= 70:\n",
    "    print(\"平\")\n",
    "else:\n",
    "    print(\"差\")\n"
   ]
  },
  {
   "cell_type": "markdown",
   "metadata": {},
   "source": [
    "## 多路分支 \n",
    "- 很多分支的情况，简称多路分支\n",
    "\n",
    "\n",
    "        if 条件表达式：\n",
    "            语句1\n",
    "            ......\n",
    "        elif 条件表达式：\n",
    "            语句1\n",
    "            ......\n",
    "        elif 条件表达式：\n",
    "            语句1\n",
    "            ......\n",
    "            .\n",
    "            .\n",
    "            .\n",
    "        else:\n",
    "            语句1\n",
    "            ......\n",
    "            \n",
    "- elif可以有多个\n",
    "- else 可选\n",
    "- 多路分支只会选一个执行"
   ]
  },
  {
   "cell_type": "markdown",
   "metadata": {},
   "source": [
    "## if 语句其他：\n",
    "- if语句可以嵌套使用，但不推荐\n",
    "- Python没有switch...case语句"
   ]
  },
  {
   "cell_type": "markdown",
   "metadata": {},
   "source": [
    "# 循环语句\n",
    "- 重复执行某些固定的动作或者处理基本固定的事物\n",
    "- 分类\n",
    "    - for 循环\n",
    "    - while 循环\n",
    "## for 循环\n",
    "- for 循环\n",
    "\n",
    "        for 变量 in 序列:\n",
    "            语句1\n",
    "            语句2\n",
    "            ...."
   ]
  },
  {
   "cell_type": "code",
   "execution_count": 115,
   "metadata": {},
   "outputs": [
    {
     "name": "stdout",
     "output_type": "stream",
     "text": [
      "zhangsan\n",
      "lisi\n",
      "wangwu\n",
      "jingjing\n"
     ]
    }
   ],
   "source": [
    "#列表 就是一列数字或者其他的值，一般用中括号表示\n",
    "#[\"zhangsan\",\"lisi\",\"wangwu\",\"jingjing\"]\n",
    "#打印列表元素\n",
    "for name in [\"zhangsan\",\"lisi\",\"wangwu\",\"jingjing\"]:\n",
    "    print(name)"
   ]
  },
  {
   "cell_type": "code",
   "execution_count": 118,
   "metadata": {},
   "outputs": [
    {
     "name": "stdout",
     "output_type": "stream",
     "text": [
      "zhangsan\n",
      "lisi\n",
      "wangwu\n",
      "ok\n",
      "jingjing\n"
     ]
    }
   ],
   "source": [
    "#打印列表元素\n",
    "for name in [\"zhangsan\",\"lisi\",\"wangwu\",\"jingjing\"]:\n",
    "    if name == \"jingjing\":\n",
    "        print(\"ok\")\n",
    "    print(name)"
   ]
  },
  {
   "cell_type": "markdown",
   "metadata": {},
   "source": [
    "## range 介绍\n",
    "- 生成一个数字序列\n",
    "- 具体范围可以设定"
   ]
  },
  {
   "cell_type": "code",
   "execution_count": 120,
   "metadata": {
    "scrolled": true
   },
   "outputs": [
    {
     "name": "stdout",
     "output_type": "stream",
     "text": [
      "1\n",
      "2\n",
      "3\n",
      "4\n",
      "5\n",
      "6\n",
      "7\n",
      "8\n",
      "9\n"
     ]
    }
   ],
   "source": [
    "#range练习\n",
    "#打印从1-10的数字\n",
    "#注意，一般在Python中，如果由表示数字范围的两个数，一般是包含左边数字不包含右边数字\n",
    "#randint是特例，他左右都包含\n",
    "#range函数在Python2和Python3中有严重区别，\n",
    "for i in range(1,10):\n",
    "    print(i)"
   ]
  },
  {
   "cell_type": "markdown",
   "metadata": {},
   "source": [
    "## for-else 语句\n",
    "- 当for循环结束时，会执行else语句\n",
    "- else语句是可选的"
   ]
  },
  {
   "cell_type": "code",
   "execution_count": 126,
   "metadata": {},
   "outputs": [
    {
     "name": "stdout",
     "output_type": "stream",
     "text": [
      "name => zhangsan\n",
      "no\n",
      "name => lisi\n",
      "yes\n",
      "name => wangwu\n",
      "no\n",
      "name => jingjing\n",
      "no\n",
      "end\n"
     ]
    }
   ],
   "source": [
    "#for-eles语句\n",
    "#打印列表中元素\n",
    "#如果没有在列表中或者列表结束，要打提升语句\n",
    "for name in [\"zhangsan\",\"lisi\",\"wangwu\",\"jingjing\"]:\n",
    "    print(\"name => {0}\".format(name))\n",
    "    if name != \"lisi\":\n",
    "        print(\"no\")\n",
    "    else:\n",
    "        print(\"yes\")\n",
    "else:\n",
    "    print (\"end\")"
   ]
  },
  {
   "cell_type": "markdown",
   "metadata": {},
   "source": [
    "## 循环之break, continue,pass\n",
    "- break:无条件结束整个循环,简称循环猝死\n",
    "- continue ：无条件结束本次循环，重新进入下一轮循环\n",
    "- pass 表示路过"
   ]
  },
  {
   "cell_type": "code",
   "execution_count": 131,
   "metadata": {},
   "outputs": [
    {
     "name": "stdout",
     "output_type": "stream",
     "text": [
      "1\n",
      "2\n",
      "3\n",
      "4\n",
      "5\n",
      "6\n"
     ]
    }
   ],
   "source": [
    "# 在1-10的数字中，如果找数字7\n",
    "#for循环中的变量，一般用i,k,m,n,或者index ,idx, item之类\n",
    "#在Python中，如果循环变量名称不重要，可以用下划线代替\n",
    "#例：\n",
    "#for _ in range(1,11):\n",
    "#   print(\"a\");\n",
    "for i in range(1,11):\n",
    "    if i == 7:\n",
    "        break\n",
    "    else:\n",
    "        print(i)\n"
   ]
  },
  {
   "cell_type": "code",
   "execution_count": 140,
   "metadata": {},
   "outputs": [
    {
     "name": "stdout",
     "output_type": "stream",
     "text": [
      "2\n",
      "4\n",
      "6\n",
      "8\n",
      "10\n"
     ]
    }
   ],
   "source": [
    "for i in range(1,11):\n",
    "    if i % 2 == 1:\n",
    "        continue\n",
    "    print (i)\n",
    "   "
   ]
  },
  {
   "cell_type": "code",
   "execution_count": 142,
   "metadata": {},
   "outputs": [],
   "source": [
    "#pass 例子 ，一般用于占位\n",
    "#pass 没有跳过功能，就是占用\n",
    "for i in range(1,11):\n",
    "    pass"
   ]
  },
  {
   "cell_type": "markdown",
   "metadata": {},
   "source": [
    "# while 循环\n",
    "- 一个循环语句\n",
    "- 表示当某个条件成立的时候就循环\n",
    "- 不知道具体循环次数，但能确定循环的成立条件的时候用while循环\n",
    "- while 语法：\n",
    "\n",
    "        while 条件表达式：\n",
    "            语句块\n",
    "            \n",
    "         while 条件表达式：\n",
    "            语句块\n",
    "         else：\n",
    "           语句块 "
   ]
  },
  {
   "cell_type": "code",
   "execution_count": 151,
   "metadata": {},
   "outputs": [
    {
     "name": "stdout",
     "output_type": "stream",
     "text": [
      "11年后翻倍\n"
     ]
    }
   ],
   "source": [
    "#如果年利率6.7% 本利每年滚动，多少本金翻倍\n",
    "#本金\n",
    "benjin = 1000\n",
    "#本金加利息 初始值就是本金\n",
    "sunBenJin = benjin\n",
    "#初始值是0\n",
    "year = 0\n",
    "#条件就是 本利翻倍停止循环 \n",
    "while sunBenJin <= benjin * 2:\n",
    "    #算出每年的利息\n",
    "    lixi = sunBenJin * 0.067\n",
    "    #年利息加上本金\n",
    "    sunBenJin += lixi\n",
    "    #年数+1\n",
    "    year +=1\n",
    "    #print(\"利息：%d\"%lixi)\n",
    "   # print(\"本利 ：%d\"%sunBenJin)\n",
    "else:\n",
    "    print(\"{0}年后翻倍\".format(year))\n",
    "    \n",
    "    \n",
    "\n",
    "\n"
   ]
  },
  {
   "cell_type": "markdown",
   "metadata": {},
   "source": [
    "# 函数\n",
    "- 代码的一种组织形式\n",
    "- 一个函数一般完成一项特定的功能\n",
    "- 函数使用\n",
    "    - 函数需要先定义\n",
    "    - 使用函数，俗称调用"
   ]
  },
  {
   "cell_type": "code",
   "execution_count": 152,
   "metadata": {},
   "outputs": [],
   "source": [
    "#定义一个函数\n",
    "#只要定义的话，不会执行\n",
    "#1，def关键字，加个空格\n",
    "#2，函数名，自己定义，起名需要遵循命名规则，约定俗称，大驼峰命名只给类用\n",
    "#3，后面的括号和冒号不能省略，括号内可以有参数\n",
    "def func():\n",
    "    print(1)"
   ]
  },
  {
   "cell_type": "code",
   "execution_count": 160,
   "metadata": {},
   "outputs": [
    {
     "name": "stdout",
     "output_type": "stream",
     "text": [
      "1\n"
     ]
    }
   ],
   "source": [
    "#函数的调用\n",
    "#直接函数名后面跟括号\n",
    "func()"
   ]
  },
  {
   "cell_type": "markdown",
   "metadata": {},
   "source": [
    "### 函数的参数和返回值\n",
    "- 参数:负 责给函数传递一些必要的数据或者信息\n",
    "    - 形参 （形式参数）：在函数定义时用到的参数没有具体值，只是一个占位符，成为形参\n",
    "    - 实参 （实际参数）：在调用函数时输入的值\n",
    "- 返回值:函数的执行结果\n",
    "    - 使用return关键字\n",
    "    - 如果没有return ，默认返回一个None\n",
    "    - 函数一旦执行return， 则无条件返回"
   ]
  },
  {
   "cell_type": "code",
   "execution_count": 177,
   "metadata": {},
   "outputs": [
    {
     "name": "stdout",
     "output_type": "stream",
     "text": [
      "3456 hello\n",
      "3456\n"
     ]
    }
   ],
   "source": [
    "#参数的定义和使用\n",
    "#参数只是一个符号，代表的是调用的时候的某一个数据\n",
    "\n",
    "def hello(person):\n",
    "    print(\"{0} hello\".format(person))\n",
    "    return person\n",
    "p = hello(\"3456\")\n",
    "print(p)"
   ]
  },
  {
   "cell_type": "code",
   "execution_count": 193,
   "metadata": {},
   "outputs": [
    {
     "name": "stdout",
     "output_type": "stream",
     "text": [
      "Help on built-in function print in module builtins:\n",
      "\n",
      "print(...)\n",
      "    print(value, ..., sep=' ', end='\\n', file=sys.stdout, flush=False)\n",
      "    \n",
      "    Prints the values to a stream, or to sys.stdout by default.\n",
      "    Optional keyword arguments:\n",
      "    file:  a file-like object (stream); defaults to the current sys.stdout.\n",
      "    sep:   string inserted between values, default a space.\n",
      "    end:   string appended after the last value, default a newline.\n",
      "    flush: whether to forcibly flush the stream.\n",
      "\n"
     ]
    }
   ],
   "source": [
    "#查找函数帮助文档\n",
    "#1，用help函数\n",
    "help(print)"
   ]
  },
  {
   "cell_type": "code",
   "execution_count": 172,
   "metadata": {},
   "outputs": [
    {
     "name": "stdout",
     "output_type": "stream",
     "text": [
      "1 hello\n",
      "********************\n",
      "None\n"
     ]
    }
   ],
   "source": [
    "def hello(person):\n",
    "    print(\"{0} hello\".format(person))\n",
    "    return person\n",
    "    print(\"*\"*20)\n",
    "    return None\n",
    "rst = hello(1)\n",
    "print(rst)"
   ]
  },
  {
   "cell_type": "code",
   "execution_count": 186,
   "metadata": {
    "scrolled": true
   },
   "outputs": [
    {
     "name": "stdout",
     "output_type": "stream",
     "text": [
      "1 * 1 = 1 \n",
      "2 * 1 = 2 2 * 2 = 4 \n",
      "3 * 1 = 3 3 * 2 = 6 3 * 3 = 9 \n",
      "4 * 1 = 4 4 * 2 = 8 4 * 3 = 12 4 * 4 = 16 \n",
      "5 * 1 = 5 5 * 2 = 10 5 * 3 = 15 5 * 4 = 20 5 * 5 = 25 \n",
      "6 * 1 = 6 6 * 2 = 12 6 * 3 = 18 6 * 4 = 24 6 * 5 = 30 6 * 6 = 36 \n",
      "7 * 1 = 7 7 * 2 = 14 7 * 3 = 21 7 * 4 = 28 7 * 5 = 35 7 * 6 = 42 7 * 7 = 49 \n",
      "8 * 1 = 8 8 * 2 = 16 8 * 3 = 24 8 * 4 = 32 8 * 5 = 40 8 * 6 = 48 8 * 7 = 56 8 * 8 = 64 \n",
      "9 * 1 = 9 9 * 2 = 18 9 * 3 = 27 9 * 4 = 36 9 * 5 = 45 9 * 6 = 54 9 * 7 = 63 9 * 8 = 72 9 * 9 = 81 \n"
     ]
    }
   ],
   "source": [
    "# 99乘法表\n",
    "for i in range(1,10):\n",
    "    for j in range(1, i+1):\n",
    "        print(\"{0} * {1} = {2}\".format(i,j,(i*j)),end=\" \")\n",
    "    print(\"\")\n",
    "    "
   ]
  },
  {
   "cell_type": "markdown",
   "metadata": {},
   "source": [
    "## 参数详解\n",
    "- 【参考资料】（https://www.cnblogs.com/bingabcd/p/6671368.html）\n",
    "- python 参考资料 headfist Python\n",
    "- 参数分类\n",
    "    - 普通参数\n",
    "    - 默认参数\n",
    "    - 关键字参数\n",
    "    - 收集参数\n",
    "- 普通参数\n",
    "   - 定义的时候直接定义变量名\n",
    "   - 调用的时候直接把变量或者值放入指定位置\n",
    "   \n",
    "           #定义\n",
    "           def 函数名（参数1，参数2，....):\n",
    "               函数体\n",
    "           #调用\n",
    "           函数名（value1,value2,.....）\n",
    "           #按位置调用，一一对应，按位置赋值\n",
    "- 默认参数\n",
    "    - 形参带有默认值\n",
    "    - 调用的时候，如果没有对形参赋值，则使用默认值\n",
    "                \n",
    "                  #定义\n",
    "                  def func_name (p1=v1,p2=v1,......):\n",
    "                      func_block\n",
    "                  #调用1\n",
    "                  func_name()\n",
    "                  \n",
    "                  #调用2\n",
    "                  func_name(100,200)\n",
    "- 关键字参数\n",
    "                  \n",
    "                  #定义\n",
    "                  def func_name (p1=v1,p2=v1,......):\n",
    "                      func_block\n",
    "                  #调用\n",
    "                  func_name(p1=v1,p2=v1,......)\n",
    "                  \n",
    "  - 比较麻烦，但也有好处\n",
    "      - 不容易混淆，一般实参和形参只是按照位置一一对应赋值，容易出错\n",
    "      - 使用关键字参数，可以不考虑参数位置\n",
    "- 收集参数\n",
    "    - 把没有位置，不能喝定义时的参数位置相对应的参数，放入一个特定的数据结构中\n",
    "    \n",
    "                  #定义\n",
    "                  def func_name (*args):\n",
    "                      func_block\n",
    "                      可以用list使用方式访问args得到传入的参数\n",
    "                  #调用\n",
    "                  func_name(p1，p2,.......)\n",
    "    - 参数名args不是必须这么写，但是，推荐直接用args，约定俗成\n",
    "    - 参数名args前需要星号\n",
    "    - 收集参数可以和其他参数共存\n",
    "    - 收集参数可以不带任何参数，此时收集参数为空tuple\n",
    "- 收集参数之关键字收集参数\n",
    "     - 把关键字按字典格式存入收集参数\n",
    "                 \n",
    "                 #定义\n",
    "                  def func_name (**kwargs):\n",
    "                      func_block\n",
    "                      可以用list使用方式访问args得到传入的参数\n",
    "                  #调用\n",
    "                  func_name(p1=v1，p2=v2,.......)\n",
    "     - kwargs一般约定俗成\n",
    "     - 调用的时候，把多余的关键字参数放入kwargs\n",
    "     - 访问kwargs需要按照字典格式访问\n",
    "     - 关键字收集参数可以不带任何参数，此时收集参数为空字典"
   ]
  },
  {
   "cell_type": "code",
   "execution_count": 188,
   "metadata": {},
   "outputs": [
    {
     "name": "stdout",
     "output_type": "stream",
     "text": [
      "name:gc,age:12,gender:male\n",
      "name:cg,age:123,gender:man\n"
     ]
    }
   ],
   "source": [
    "#默认参数示例\n",
    "def reg(name, age, gender=\"male\"):\n",
    "    print(\"name:{0},age:{1},gender:{2}\".format(name, age, gender))\n",
    "reg(\"gc\",12)\n",
    "reg(\"cg\",123,\"man\")"
   ]
  },
  {
   "cell_type": "code",
   "execution_count": 194,
   "metadata": {},
   "outputs": [
    {
     "name": "stdout",
     "output_type": "stream",
     "text": [
      "name:gc, age:12, addr:123\n"
     ]
    }
   ],
   "source": [
    "#关键字参数示例\n",
    "def stu_key(name=\"no name\", age=0, addr=\"no addr\"):\n",
    "    print(\"name:{0}, age:{1}, addr:{2}\".format(name, age, addr))\n",
    "    \n",
    "stu_key(age=12,name=\"gc\",addr=\"123\")"
   ]
  },
  {
   "cell_type": "code",
   "execution_count": 198,
   "metadata": {},
   "outputs": [
    {
     "name": "stdout",
     "output_type": "stream",
     "text": [
      "<class 'tuple'>\n",
      "name\n",
      "12\n",
      "add\n",
      "single\n",
      "<class 'tuple'>\n",
      "gc\n",
      "<class 'tuple'>\n"
     ]
    }
   ],
   "source": [
    "#收集参数示例\n",
    "#args 看做是一个list\n",
    "def stu(*args):\n",
    "    #type函数 作用检测变量类型\n",
    "    print(type(args))\n",
    "    for i in args:\n",
    "        print(i)\n",
    "    \n",
    "stu(\"name\",12,\"add\",\"single\")\n",
    "stu(\"gc\")\n",
    "stu()"
   ]
  },
  {
   "cell_type": "code",
   "execution_count": 211,
   "metadata": {},
   "outputs": [
    {
     "name": "stdout",
     "output_type": "stream",
     "text": [
      "<class 'dict'>\n",
      "k:naem;v:name\n",
      "k:age;v:12\n",
      "k:addtr;v:add\n",
      "<class 'dict'>\n",
      "k:naem;v:gc\n",
      "<class 'dict'>\n"
     ]
    }
   ],
   "source": [
    "#关键字收集参数示例\n",
    "#kwargs 看做是一个字典\n",
    "def stu(**kwargs):\n",
    "    #type函数 作用检测变量类型\n",
    "    print(type(kwargs))\n",
    "    for k, v in kwargs.items():\n",
    "        print(\"k:{0};v:{1}\".format(k, v))\n",
    "       \n",
    "    \n",
    "#help(dict)\n",
    "\n",
    "stu(naem=\"name\", age=12, addtr=\"add\")\n",
    "stu(naem=\"gc\")\n",
    "stu()"
   ]
  },
  {
   "cell_type": "markdown",
   "metadata": {},
   "source": [
    "### 收集参数 混合调用顺序\n",
    "- 收集参数， 关键字参数，普通参数可以混合使用\n",
    "- 使用规则就是 普通参数和关键字参数优先\n",
    "- 定义的时候一般找普通参数，关键字参数，收集参数tuple， 收集参数dict"
   ]
  },
  {
   "cell_type": "code",
   "execution_count": 222,
   "metadata": {},
   "outputs": [
    {
     "name": "stdout",
     "output_type": "stream",
     "text": [
      "name:qw, age:12\n",
      "asdf\n",
      "********************\n",
      "asdf\n",
      "qwe\n",
      "k ------ qita\n",
      "v ------ qita\n"
     ]
    }
   ],
   "source": [
    "#参数调用顺序 例子\n",
    "def stu(name, age,*args, hobby=\"没有\",**kwargs):\n",
    "    print(\"name:{0}, age:{1}\".format(name, age))\n",
    "    if hobby == \"没有\":\n",
    "        print(\"没有\")\n",
    "    else:\n",
    "        print(hobby)\n",
    "    \n",
    "    print(\"*\"*20)\n",
    "    \n",
    "    for i in args:\n",
    "        print(i)\n",
    "    \n",
    "    for k,v in kwargs.items():\n",
    "        print(\"k ------ {0}\".format(k))\n",
    "        print(\"v ------ {0}\".format(v))\n",
    "\n",
    "#stu(\"gc\",1)\n",
    "#stu(\"gc\",1,hobby=\"tt\")\n",
    "#stu(\"gc\",12,\"asdf\",\"qwe\",qita=\"qita\")\n",
    "\n",
    "stu(\"qw\", 12,\"asdf\", \"qwe\", hobby=\"asdf\",  qita=\"qita\")\n",
    "\n"
   ]
  },
  {
   "cell_type": "markdown",
   "metadata": {},
   "source": [
    "### 收集参数的解包问题\n",
    "- 把参数放入list或者字典中，直接把list/dict中的值放入收集参数中"
   ]
  },
  {
   "cell_type": "code",
   "execution_count": 226,
   "metadata": {},
   "outputs": [
    {
     "name": "stdout",
     "output_type": "stream",
     "text": [
      "['100', 22]\n",
      "100\n",
      "22\n"
     ]
    }
   ],
   "source": [
    "#收集参数的解包问题\n",
    "def stu (*args):\n",
    "    for i in args:\n",
    "        print(i)\n",
    "#stu(\"32456\",\"2345\")\n",
    "\n",
    "l = list()\n",
    "l.append(\"100\")\n",
    "l.append(22)\n",
    "stu(l)\n",
    "# 此时，args的表示形式是tuple内一个list元素，即 args=（【】，）\n",
    "#需要解包，也就是说加个解包符号就可以了，加个星号\n",
    "stu(*l)"
   ]
  },
  {
   "cell_type": "code",
   "execution_count": 247,
   "metadata": {},
   "outputs": [
    {
     "name": "stdout",
     "output_type": "stream",
     "text": [
      "name .... a\n",
      "age .... 12\n"
     ]
    }
   ],
   "source": [
    "def stu(**kwargs):\n",
    "    for k,v in kwargs.items():\n",
    "        print(k,\"....\",v)\n",
    "    return None\n",
    "l = {\"name\":\"a\",\"age\":12}\n",
    "stu(**l)"
   ]
  },
  {
   "cell_type": "markdown",
   "metadata": {},
   "source": [
    "# 函数文档\n",
    "- 函数的文档的作用是对当前函数提供使用相关参考信息\n",
    "- 文档的写法\n",
    "    - 在函数内部开始的第一行使用三字符串定义符\n",
    "    - 一般具有特定格式\n",
    "- 文档查看\n",
    "    - 使用help函数 列如help（func）\n",
    "    - 使用doc"
   ]
  },
  {
   "cell_type": "code",
   "execution_count": 252,
   "metadata": {},
   "outputs": [
    {
     "name": "stdout",
     "output_type": "stream",
     "text": [
      "Help on function stu in module __main__:\n",
      "\n",
      "stu(name, age, *args)\n",
      "    文档说明\n",
      "    ：param name：\n",
      "    ：param age:\n",
      "    return\n",
      "\n"
     ]
    },
    {
     "data": {
      "text/plain": [
       "'\\n    文档说明\\n    ：param name：\\n    ：param age:\\n    return \\n    '"
      ]
     },
     "execution_count": 252,
     "metadata": {},
     "output_type": "execute_result"
    }
   ],
   "source": [
    "# 文档案例\n",
    "def stu(name, age, *args):\n",
    "    '''\n",
    "    文档说明\n",
    "    ：param name：\n",
    "    ：param age:\n",
    "    return \n",
    "    '''\n",
    "    return None\n",
    "#查看文档\n",
    "help(stu)\n",
    "\n",
    "stu.__doc__"
   ]
  },
  {
   "cell_type": "markdown",
   "metadata": {},
   "source": [
    "# 变量作用域\n",
    "- 变量有作用范围限制\n",
    "- 分类：按照作用域分类\n",
    "    - 全局（global） 在函数外部定义\n",
    "    - 局部（local） 在函数内部定义\n",
    "- 变量的作用范围\n",
    "    - 全局变量 在整个全局范围都有效\n",
    "    - 全局变量在局部也可以使用（即函数内部可以访问函数外部定义的变量）\n",
    "    - 局部变量在局部范围可以使用\n",
    "    - 局部变量在全局范围无法使用\n",
    "- LEGB原则\n",
    "    - L(local)局部作用域\n",
    "    - E（enclosing function locale）外部嵌套函数作用域\n",
    "    - G（global module）函数定义所在模块作用域\n",
    "    - B（Buildin）Python内置模块\n",
    "    的作用域"
   ]
  },
  {
   "cell_type": "markdown",
   "metadata": {},
   "source": [
    "## 提升局部变量为全局变量\n",
    "- 使用global"
   ]
  },
  {
   "cell_type": "code",
   "execution_count": 5,
   "metadata": {},
   "outputs": [
    {
     "name": "stdout",
     "output_type": "stream",
     "text": [
      "1\n"
     ]
    }
   ],
   "source": [
    "def func():\n",
    "    global a\n",
    "    a = \"1\"\n",
    "    return None\n",
    "func()\n",
    "print(a)"
   ]
  },
  {
   "cell_type": "markdown",
   "metadata": {},
   "source": [
    "# globals,locals函数\n",
    "- 可以通过globals和locals显示出局部变量和全局变量"
   ]
  },
  {
   "cell_type": "code",
   "execution_count": 7,
   "metadata": {},
   "outputs": [
    {
     "name": "stdout",
     "output_type": "stream",
     "text": [
      "locals : {'c': 100, 'd': 12, 'e': 11}\n",
      "globals : {'__name__': '__main__', '__doc__': 'Automatically created module for IPython interactive environment', '__package__': None, '__loader__': None, '__spec__': None, '__builtin__': <module 'builtins' (built-in)>, '__builtins__': <module 'builtins' (built-in)>, '_ih': ['', 'def func():\\n    a=\"1\"\\n    print(a)\\n    return None\\nprint(a)', 'def func():\\n    global a=\"1\"\\n    print(a)\\n    return None\\nprint(a)', 'def func():\\n    global a\\n    a=\"1\"\\n    print(a)\\n    return None\\nprint(a)', 'def func():\\n    global a\\n    a = \"1\"\\n    return None\\nprint(a)', 'def func():\\n    global a\\n    a = \"1\"\\n    return None\\nfunc()\\nprint(a)', '#globals,locals\\na = 1\\nb = 2\\ndef func(c, d):\\n    e = 11\\n    print(\"locals : {0}\".format(locals()))\\n    print(\"globals : {0}\".format(globals()))\\nfunc(100, 12)', '#globals,locals\\na = 1\\nb = 2\\ndef func(c, d):\\n    e = 11\\n    print(\"locals : {0}\".format(locals()))\\n    print(\"globals : {0}\".format(globals()))\\nfunc(100, 12)'], '_oh': {}, '_dh': ['C:\\\\Users\\\\panpan\\\\Desktop\\\\git\\\\Python学习'], 'In': ['', 'def func():\\n    a=\"1\"\\n    print(a)\\n    return None\\nprint(a)', 'def func():\\n    global a=\"1\"\\n    print(a)\\n    return None\\nprint(a)', 'def func():\\n    global a\\n    a=\"1\"\\n    print(a)\\n    return None\\nprint(a)', 'def func():\\n    global a\\n    a = \"1\"\\n    return None\\nprint(a)', 'def func():\\n    global a\\n    a = \"1\"\\n    return None\\nfunc()\\nprint(a)', '#globals,locals\\na = 1\\nb = 2\\ndef func(c, d):\\n    e = 11\\n    print(\"locals : {0}\".format(locals()))\\n    print(\"globals : {0}\".format(globals()))\\nfunc(100, 12)', '#globals,locals\\na = 1\\nb = 2\\ndef func(c, d):\\n    e = 11\\n    print(\"locals : {0}\".format(locals()))\\n    print(\"globals : {0}\".format(globals()))\\nfunc(100, 12)'], 'Out': {}, 'get_ipython': <bound method InteractiveShell.get_ipython of <ipykernel.zmqshell.ZMQInteractiveShell object at 0x0000000003FCF828>>, 'exit': <IPython.core.autocall.ZMQExitAutocall object at 0x0000000004CAC128>, 'quit': <IPython.core.autocall.ZMQExitAutocall object at 0x0000000004CAC128>, '_': '', '__': '', '___': '', '_i': '#globals,locals\\na = 1\\nb = 2\\ndef func(c, d):\\n    e = 11\\n    print(\"locals : {0}\".format(locals()))\\n    print(\"globals : {0}\".format(globals()))\\nfunc(100, 12)', '_ii': 'def func():\\n    global a\\n    a = \"1\"\\n    return None\\nfunc()\\nprint(a)', '_iii': 'def func():\\n    global a\\n    a = \"1\"\\n    return None\\nprint(a)', '_i1': 'def func():\\n    a=\"1\"\\n    print(a)\\n    return None\\nprint(a)', 'func': <function func at 0x000000000523FEA0>, '_i2': 'def func():\\n    global a=\"1\"\\n    print(a)\\n    return None\\nprint(a)', '_i3': 'def func():\\n    global a\\n    a=\"1\"\\n    print(a)\\n    return None\\nprint(a)', '_i4': 'def func():\\n    global a\\n    a = \"1\"\\n    return None\\nprint(a)', '_i5': 'def func():\\n    global a\\n    a = \"1\"\\n    return None\\nfunc()\\nprint(a)', 'a': 1, '_i6': '#globals,locals\\na = 1\\nb = 2\\ndef func(c, d):\\n    e = 11\\n    print(\"locals : {0}\".format(locals()))\\n    print(\"globals : {0}\".format(globals()))\\nfunc(100, 12)', 'b': 2, '_i7': '#globals,locals\\na = 1\\nb = 2\\ndef func(c, d):\\n    e = 11\\n    print(\"locals : {0}\".format(locals()))\\n    print(\"globals : {0}\".format(globals()))\\nfunc(100, 12)'}\n"
     ]
    }
   ],
   "source": [
    "#globals,locals\n",
    "a = 1\n",
    "b = 2\n",
    "def func(c, d):\n",
    "    e = 11\n",
    "    print(\"locals : {0}\".format(locals()))\n",
    "    print(\"globals : {0}\".format(globals()))\n",
    "func(100, 12)"
   ]
  },
  {
   "cell_type": "markdown",
   "metadata": {},
   "source": [
    "# eval（）函数\n",
    "- 把一个字符串当一个表达式来执行，返回表达式执行结果\n",
    "- 语法：\n",
    "        \n",
    "        eval（string_code, globals=None, locals=None）\n",
    "# exec()函数\n",
    "- 跟eval功能一样但是没有返回结果"
   ]
  },
  {
   "cell_type": "code",
   "execution_count": 11,
   "metadata": {},
   "outputs": [
    {
     "name": "stdout",
     "output_type": "stream",
     "text": [
      "x + y = 300\n",
      "300\n",
      "None\n"
     ]
    }
   ],
   "source": [
    "#eval（）,exec()\n",
    "x = 100\n",
    "y = 200\n",
    "z = eval(\"x + y\")\n",
    "a = exec(\"print('x + y = {0}'.format(x + y))\")\n",
    "print(z)\n",
    "print(a)"
   ]
  },
  {
   "cell_type": "markdown",
   "metadata": {},
   "source": [
    "# 递归函数\n",
    "- 直接或间接调用自己\n",
    "- 优点：简洁，理解容易\n",
    "- 缺点：对递归深度有限制，消耗资源大。Python对递归深度有限制，超过限制报错\n",
    "- 在写递归程序的时候，一定要注意结束条件。"
   ]
  },
  {
   "cell_type": "code",
   "execution_count": 16,
   "metadata": {},
   "outputs": [
    {
     "data": {
      "text/plain": [
       "'\\nx = 0\\ndef fun():\\n    global x\\n    x +=1\\n    print(x)\\n    fun()\\nfun()\\n'"
      ]
     },
     "execution_count": 16,
     "metadata": {},
     "output_type": "execute_result"
    }
   ],
   "source": [
    "#递归调用深度限制代码\n",
    "'''\n",
    "x = 0\n",
    "def fun():\n",
    "    global x\n",
    "    x +=1\n",
    "    print(x)\n",
    "    fun()\n",
    "fun()\n",
    "'''"
   ]
  },
  {
   "cell_type": "code",
   "execution_count": 23,
   "metadata": {},
   "outputs": [
    {
     "name": "stdout",
     "output_type": "stream",
     "text": [
      "34\n"
     ]
    }
   ],
   "source": [
    "#斐波那契数列\n",
    "#一列数字，第一个值是1，第二个值也是1，从第三个开始，每个数字的值等于前两个数字出现的值和\n",
    "#数学公式：f(1)=1,f(2)=1,f(n)=f(n-1)+f(n-2)\n",
    "#例如：1，1，2，3，5，8。。。。。。。\n",
    "def func(n):\n",
    "    if n == 1:\n",
    "        return 1\n",
    "    elif n == 2:\n",
    "        return 1\n",
    "    return func(n - 1) + func(n - 2)\n",
    "\n",
    "print(func(9))"
   ]
  },
  {
   "cell_type": "markdown",
   "metadata": {},
   "source": [
    "# 内置数据结构（变量类型）\n",
    "- list\n",
    "- set\n",
    "- dict\n",
    "- tuple\n",
    "## list(列表）\n",
    "- 一组由顺序的数据组合\n",
    "- 创建列表\n",
    "    - 空列表"
   ]
  },
  {
   "cell_type": "code",
   "execution_count": 26,
   "metadata": {},
   "outputs": [
    {
     "name": "stdout",
     "output_type": "stream",
     "text": [
      "<class 'list'>\n",
      "<class 'list'>\n",
      "[100]\n",
      "<class 'list'>\n",
      "[10, 3, 4, 5, 6]\n",
      "<class 'list'>\n",
      "[]\n"
     ]
    }
   ],
   "source": [
    "#创建空列表\n",
    "l1 = []\n",
    "print(type(l1))\n",
    "\n",
    "#创建带值得列表\n",
    "l2 = [100]\n",
    "print(type(l2))\n",
    "print(l2)\n",
    "\n",
    "#创建列表带多个值\n",
    "\n",
    "l3 = [10, 3, 4, 5, 6]\n",
    "print(type(l3))\n",
    "print(l3)\n",
    "\n",
    "#使用list（）\n",
    "l4 = list()\n",
    "print(type(l4))\n",
    "print(l4)"
   ]
  },
  {
   "cell_type": "markdown",
   "metadata": {},
   "source": [
    "# 列表常用操作\n",
    "- 访问\n",
    "    - 使用下标操作（索引）\n",
    "    - 列表的位置是从0开始的\n",
    "- 分片操作\n",
    "    - 对列表进行任意一段的截取\n",
    "    - l[:]\n",
    "    - 分片操作是生成一个新的list\n",
    "        - 内置函数id，负责显示一个变量或者数据的唯一确定编号\n",
    "    "
   ]
  },
  {
   "cell_type": "code",
   "execution_count": 42,
   "metadata": {},
   "outputs": [
    {
     "name": "stdout",
     "output_type": "stream",
     "text": [
      "[3, 2, 4, 5, 1]\n",
      "[]\n",
      "[2, 4]\n",
      "[5, 4]\n"
     ]
    }
   ],
   "source": [
    "l = [3,2,4,5,1]\n",
    "#下标访问列表\n",
    "#print(l[2])\n",
    "#分片操作\n",
    "#注意截取的范围，包含左边的下标值，不包含右边的下标值\n",
    "#print(l[1:4])\n",
    "#下编制可以为空，如果不写，左边下标值默认为0，右边下标值为最大数加一，即表示截取到最后一个数据\n",
    "#print(l[:])\n",
    "#print(l[1:])\n",
    "#print(l[:4])\n",
    "#分片可以控制增长幅度，默认的增长幅度为1\n",
    "#下标可以超出范围，超出后不在考虑多余下标内容 只在分片时有用\n",
    "#print(l[0:6:2])\n",
    "#下标值，增长幅度可以为负数\n",
    "#为负数，表明顺序是从右往左\n",
    "#规定：数组最后一个数字的下标是-1\n",
    "#即正常情况，分片左边的值一定小于右边的值\n",
    "#如果分片一定左边值比右边值大，则步长参数需要用负数\n",
    "#print(l[-2:-4:-1]) 提供一个直接取正反颠倒的思路\n",
    "print(l)\n",
    "print(l[-2:-4])\n",
    "print(l[-4:-2])\n",
    "print(l[-2:-4:-1])"
   ]
  },
  {
   "cell_type": "code",
   "execution_count": 46,
   "metadata": {},
   "outputs": [
    {
     "name": "stdout",
     "output_type": "stream",
     "text": [
      "8791495128176\n",
      "8791495128496\n",
      "8791495128176\n",
      "101\n",
      "10\n"
     ]
    }
   ],
   "source": [
    "# id 函数举例\n",
    "a = 10\n",
    "b = 20\n",
    "print(id(a))\n",
    "print(id(b))\n",
    "c = a\n",
    "print(id(c))\n",
    "#如果a跟c指向一份数据，则更改a的值同样也会更改c的值\n",
    "#但是，显示的结果并非如此 为什么\n",
    "#通过打印得知，a = 101的时候会重新指向101，这是c和a已经指向不同\n",
    "a = 101\n",
    "print(a)\n",
    "print(c)\n"
   ]
  },
  {
   "cell_type": "code",
   "execution_count": 48,
   "metadata": {},
   "outputs": [
    {
     "name": "stdout",
     "output_type": "stream",
     "text": [
      "86299272\n",
      "90217352\n",
      "90217352\n",
      "[2, 100, 4, 5, 6, 7, 8, 9]\n",
      "[2, 3, 4, 5, 6, 7, 8, 9]\n",
      "[2, 1000, 4, 5, 6, 7, 8, 9]\n",
      "[2, 1000, 4, 5, 6, 7, 8, 9]\n"
     ]
    }
   ],
   "source": [
    "# 通过id可以直接判断出是否是重新生成的数据，还是同一份数据\n",
    "l = [2,3,4,5,6,7,8,9]\n",
    "ll = l[:]\n",
    "lll = ll\n",
    "#如果两个id值一样，则表明分片产生的列表是使用同一地址同一数据\n",
    "#否则 表示分片是重新生成了一份数，即一个新的列表，然后把值复制到新的列表中\n",
    "print(id(l))\n",
    "print(id(ll))\n",
    "print(id(lll))\n",
    "#通过id知道，ll和lll是同一份数据，验证如下\n",
    "l[1] = 100\n",
    "print(l)\n",
    "print(ll)\n",
    "\n",
    "ll[1] = 1000\n",
    "print(ll)\n",
    "print(lll)"
   ]
  },
  {
   "cell_type": "markdown",
   "metadata": {},
   "source": [
    "# 汉诺塔问题\n",
    "- 158 1154 1724\n",
    "- 规则：\n",
    "    1，每次移动一个盘子\n",
    "    2， 任何时候大盘子在下面，小盘子在上面\n",
    "- 方法：\n",
    "    1，n=1：直接把a上的一个盘子移动到c上，a->c\n",
    "    2, n=2：\n",
    "        A，把小盘子从a放到b上A->B\n",
    "        B，把大盘子从a放到c上A->C\n",
    "        C，把小盘子从b放到c上B->C\n",
    "    3，n=3:\n",
    "        A，把a上的两个盘子，通过c移动到b上，调用递归实现\n",
    "        B，把a上剩下的一个最大盘子移动到c上 A->C\n",
    "        C, 把b上的两个盘子借助a移到c上，调用递归\n",
    "    4，n=n:\n",
    "        A，把a上的n-1个盘子，通过c移动到b上，调用递归实现\n",
    "        B，把a上剩下的一个最大盘子移动到c上 A->C\n",
    "        C, 把b上的两个盘子借助a移到c上，调用递归\n",
    " \n"
   ]
  },
  {
   "cell_type": "code",
   "execution_count": 5,
   "metadata": {},
   "outputs": [
    {
     "name": "stdout",
     "output_type": "stream",
     "text": [
      "a -> c\n",
      "a -> b\n",
      "c -> b\n",
      "a -> c\n",
      "b -> a\n",
      "b -> c\n",
      "a -> c\n"
     ]
    }
   ],
   "source": [
    "def hano(n, a, b, c):\n",
    "    '''\n",
    "    汉诺塔的递归实现\n",
    "    n：代表几个盘子\n",
    "    a,b,c代表三个塔\n",
    "    '''\n",
    "    if n == 1:\n",
    "        print(a, \"->\",c)\n",
    "        return None\n",
    "    if n == 2:\n",
    "        print(a, \"->\", b)\n",
    "        print(a, \"->\", c)\n",
    "        print(b, \"->\", c)\n",
    "        return None\n",
    "    #把n-1个盘子，从a塔借助c塔，挪到b塔上\n",
    "    hano(n-1, a, c, b)\n",
    "    print(a, \"->\", c)\n",
    "    #把 n-1个盘子从b塔借助于a塔，挪到c塔上\n",
    "    hano(n-1, b, a, c)\n",
    "\n",
    "hano(3,\"a\",\"b\",\"c\")"
   ]
  },
  {
   "cell_type": "markdown",
   "metadata": {},
   "source": [
    "# list（列表）\n",
    "- del：删除命令"
   ]
  },
  {
   "cell_type": "code",
   "execution_count": 10,
   "metadata": {},
   "outputs": [
    {
     "name": "stdout",
     "output_type": "stream",
     "text": [
      "80533704\n",
      "[1, 2, 4, 5, 6]\n",
      "80533704\n"
     ]
    }
   ],
   "source": [
    "#del 删除\n",
    "a = [1,2,3,4,5,6]\n",
    "print(id(a))\n",
    "del a[2]\n",
    "print(a)\n",
    "print(id(a))\n",
    "# del一个变量不能再继续使用此变量\n",
    "del a\n"
   ]
  },
  {
   "cell_type": "markdown",
   "metadata": {},
   "source": [
    "# 列表相加\n",
    "- 使用加号链接两个列表"
   ]
  },
  {
   "cell_type": "code",
   "execution_count": 12,
   "metadata": {},
   "outputs": [
    {
     "name": "stdout",
     "output_type": "stream",
     "text": [
      "[1, 2, 5, 'a', 'b']\n"
     ]
    }
   ],
   "source": [
    "# 使用加号链接两个列表\n",
    "a = [1, 2, 5]\n",
    "b = [\"a\",\"b\"]\n",
    "c = a + b\n",
    "print(c)"
   ]
  },
  {
   "cell_type": "code",
   "execution_count": 14,
   "metadata": {},
   "outputs": [
    {
     "name": "stdout",
     "output_type": "stream",
     "text": [
      "[1, 2, 3, 4, 5, 1, 2, 3, 4, 5]\n"
     ]
    }
   ],
   "source": [
    "# 使用乘号操作列表\n",
    "#列表直接跟一个整数相乘\n",
    "#详单与把n个列表接在一起\n",
    "a = [1,2,3,4,5]\n",
    "b = a * 2\n",
    "print(b)"
   ]
  },
  {
   "cell_type": "code",
   "execution_count": 16,
   "metadata": {},
   "outputs": [
    {
     "name": "stdout",
     "output_type": "stream",
     "text": [
      "True\n",
      "True\n"
     ]
    }
   ],
   "source": [
    "#成员资格运算\n",
    "#就是判断一个元素是否在list里边\n",
    "a = [1,2,3,4,6,7]\n",
    "b = 8\n",
    "# c 的值是一个布尔值\n",
    "c = b in a\n",
    "c = b not in a\n",
    "print(c)\n",
    "print(1 in a)"
   ]
  },
  {
   "cell_type": "markdown",
   "metadata": {},
   "source": [
    "# 列表的遍历\n",
    "- for\n",
    "- while\n"
   ]
  },
  {
   "cell_type": "code",
   "execution_count": 19,
   "metadata": {},
   "outputs": [
    {
     "name": "stdout",
     "output_type": "stream",
     "text": [
      "1 2 3 4 5 "
     ]
    }
   ],
   "source": [
    "#for in list\n",
    "a = [1,2,3,4,5]\n",
    "# in 后面的变量要求是可迭代的内容\n",
    "\n",
    "for i in a:\n",
    "    print(i, end=\" \")"
   ]
  },
  {
   "cell_type": "code",
   "execution_count": 22,
   "metadata": {},
   "outputs": [
    {
     "name": "stdout",
     "output_type": "stream",
     "text": [
      "1\n",
      "2\n",
      "3\n",
      "4\n",
      "5\n"
     ]
    }
   ],
   "source": [
    "#while in list\n",
    "a = [1,2,3,4,5]\n",
    "length = len(a)\n",
    "#index 表示list下标\n",
    "index = 0\n",
    "\n",
    "while index < length :\n",
    "    print(a[index])\n",
    "    index +=1"
   ]
  },
  {
   "cell_type": "code",
   "execution_count": 24,
   "metadata": {},
   "outputs": [
    {
     "name": "stdout",
     "output_type": "stream",
     "text": [
      "noe -- 1\n",
      "two -- 2\n"
     ]
    }
   ],
   "source": [
    "#  双层列表循环\n",
    "#a为嵌套列表，或者可以叫双层循环\n",
    "a = [[\"noe\",1],[\"two\",2]]\n",
    "for k,v in a:\n",
    "    print(k, \"--\", v)"
   ]
  },
  {
   "cell_type": "code",
   "execution_count": 27,
   "metadata": {},
   "outputs": [
    {
     "name": "stdout",
     "output_type": "stream",
     "text": [
      "noe -- 1 6\n",
      "two -- 2 8\n"
     ]
    }
   ],
   "source": [
    "#  双层列表循环 变异\n",
    "#a为嵌套列表，或者可以叫双层循环\n",
    "a = [[\"noe\",1,6],[\"two\",2, 8]]\n",
    "for k,v, w in a:\n",
    "    print(k, \"--\", v, w)"
   ]
  },
  {
   "cell_type": "markdown",
   "metadata": {},
   "source": [
    "# list content列表内涵\n",
    "- 通过简单方法创作列表"
   ]
  },
  {
   "cell_type": "code",
   "execution_count": 29,
   "metadata": {},
   "outputs": [
    {
     "name": "stdout",
     "output_type": "stream",
     "text": [
      "[1, 2, 3]\n"
     ]
    }
   ],
   "source": [
    "# for创建\n",
    "a = [1,2,3]\n",
    "# 用list a 创建 list b\n",
    "#下面代码的含义是，对于所有a中的元素，逐个放入新列表b中\n",
    "b = [i for i in a]\n",
    "print(b)"
   ]
  },
  {
   "cell_type": "code",
   "execution_count": 31,
   "metadata": {},
   "outputs": [
    {
     "name": "stdout",
     "output_type": "stream",
     "text": [
      "[10, 230, 40]\n"
     ]
    }
   ],
   "source": [
    "#对a中所有元素乘以10，生成一个新list\n",
    "a = [1,23,4]\n",
    "b = [i * 10 for i in a]\n",
    "print(b)"
   ]
  },
  {
   "cell_type": "code",
   "execution_count": 35,
   "metadata": {},
   "outputs": [
    {
     "name": "stdout",
     "output_type": "stream",
     "text": [
      "[2, 4, 6, 8, 10, 12, 14, 16, 18, 20, 22, 24, 26, 28, 30, 32, 34, 36]\n"
     ]
    }
   ],
   "source": [
    "#过滤原来list 的内容 并放入新的list中\n",
    "a = [x for x in range(1,37)]#生成从1到36的一个列表\n",
    "b = [i for i in a  if i % 2 == 0]#过滤所有奇数\n",
    "print(b)\n"
   ]
  },
  {
   "cell_type": "code",
   "execution_count": 42,
   "metadata": {},
   "outputs": [
    {
     "name": "stdout",
     "output_type": "stream",
     "text": [
      "[1, 2]\n",
      "[100, 200]\n",
      "[100, 200]\n",
      "[201, 301, 301, 401, 202, 302, 302, 402]\n",
      "101 201 102 202 \n",
      "[]\n"
     ]
    }
   ],
   "source": [
    "# 列表生成式可以嵌套\n",
    "# 由两个列表 a,b\n",
    "a = [i for i in range(1,3)]\n",
    "b = [i for i in range(100, 300) if i % 100 == 0]\n",
    "c = [i *100 for i in a]\n",
    "print(a)\n",
    "print(b)\n",
    "print(c)\n",
    "# 列表生成式可以嵌套, 就是for循环嵌套的简写\n",
    "d = [x+y+z for x in a for y in b for z in c]\n",
    "print(d)\n",
    "\n",
    "d = [m + n for m in a for n in b]\n",
    "\n",
    "#上面代码跟下面代码等价\n",
    "for m in a:\n",
    "    for n in b:\n",
    "        print(m+n,end = \" \")\n",
    "print()\n",
    "\n",
    "#嵌套的列表生成式也可以用条件表达式\n",
    "d = [m+n for m in a for n in b if(m+n)<100]\n",
    "print(d)"
   ]
  },
  {
   "cell_type": "markdown",
   "metadata": {},
   "source": [
    "# 关于列表的常用函数 （数组是传址的）\n",
    "- len：求列表的长度\n",
    "       \n",
    "      a = [x for x in range(1,100)]\n",
    "      print(len(a))\n",
    "- max: 求列表中最大值\n",
    "\n",
    "        max(a)\n",
    "\n",
    "- min ： 最小 同理\n",
    "- list :将其他格式的数据转换成list，要求被转换的数据必须是可迭代的\n",
    "- "
   ]
  }
 ],
 "metadata": {
  "kernelspec": {
   "display_name": "Python 3",
   "language": "python",
   "name": "python3"
  },
  "language_info": {
   "codemirror_mode": {
    "name": "ipython",
    "version": 3
   },
   "file_extension": ".py",
   "mimetype": "text/x-python",
   "name": "python",
   "nbconvert_exporter": "python",
   "pygments_lexer": "ipython3",
   "version": "3.7.1"
  }
 },
 "nbformat": 4,
 "nbformat_minor": 2
}
