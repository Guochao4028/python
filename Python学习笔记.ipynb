{
 "cells": [
  {
   "cell_type": "code",
   "execution_count": 1,
   "metadata": {},
   "outputs": [
    {
     "name": "stdout",
     "output_type": "stream",
     "text": [
      "18\n"
     ]
    }
   ],
   "source": [
    "# 变量\n",
    "varName = 18\n",
    "print(varName)"
   ]
  },
  {
   "cell_type": "code",
   "execution_count": 37,
   "metadata": {},
   "outputs": [
    {
     "name": "stdout",
     "output_type": "stream",
     "text": [
      "['False', 'None', 'True', 'and', 'as', 'assert', 'async', 'await', 'break', 'class', 'continue', 'def', 'del', 'elif', 'else', 'except', 'finally', 'for', 'from', 'global', 'if', 'import', 'in', 'is', 'lambda', 'nonlocal', 'not', 'or', 'pass', 'raise', 'return', 'try', 'while', 'with', 'yield']\n"
     ]
    }
   ],
   "source": [
    "#关键字\n",
    "import keyword #引关键字包\n",
    "print(keyword.kwlist)"
   ]
  },
  {
   "cell_type": "code",
   "execution_count": 2,
   "metadata": {},
   "outputs": [
    {
     "name": "stdout",
     "output_type": "stream",
     "text": [
      "test\n"
     ]
    }
   ],
   "source": [
    "varStr = \"test\"\n",
    "print(varStr)"
   ]
  },
  {
   "cell_type": "code",
   "execution_count": 3,
   "metadata": {},
   "outputs": [
    {
     "name": "stdout",
     "output_type": "stream",
     "text": [
      "1 2 3\n"
     ]
    }
   ],
   "source": [
    "age,age1,age2 = 1,2,3\n",
    "print(age,age1,age2)"
   ]
  },
  {
   "cell_type": "code",
   "execution_count": 1,
   "metadata": {},
   "outputs": [
    {
     "name": "stdout",
     "output_type": "stream",
     "text": [
      "91 91 91\n"
     ]
    }
   ],
   "source": [
    "age = age1 = age2 = 91\n",
    "print(age,age1,age2)"
   ]
  },
  {
   "cell_type": "markdown",
   "metadata": {},
   "source": [
    "写学习笔记，notebook"
   ]
  },
  {
   "cell_type": "markdown",
   "metadata": {},
   "source": [
    "markdown需要学习"
   ]
  },
  {
   "cell_type": "code",
   "execution_count": 4,
   "metadata": {},
   "outputs": [
    {
     "name": "stdout",
     "output_type": "stream",
     "text": [
      "adf\n"
     ]
    }
   ],
   "source": [
    "#打印字符串\n",
    "print(\"adf\")\n"
   ]
  },
  {
   "cell_type": "markdown",
   "metadata": {},
   "source": [
    "# 变量\n",
    "- markdoem 跟vim模式很像\n",
    "- 变量 不需要前置声明类型\n"
   ]
  },
  {
   "cell_type": "code",
   "execution_count": 14,
   "metadata": {},
   "outputs": [
    {
     "name": "stdout",
     "output_type": "stream",
     "text": [
      "str : p str : p asdf1 3 asdf2\n"
     ]
    }
   ],
   "source": [
    "str1 = \"asdf\"\n",
    "str2 = str1 = \"str : p\"\n",
    "str3, str4, str5 = \"asdf1\",3,\"asdf2\"\n",
    "print(str1,str2,str3,str4,str5)"
   ]
  },
  {
   "cell_type": "markdown",
   "metadata": {},
   "source": [
    "# 变量类型\n",
    "- Python 弱类型\n",
    "- 严格意义上讲，Python只有一种类型\n",
    "- 数字 number\n",
    "- 字符串 str\n",
    "- 列表 list\n",
    "- 元祖 tuple\n",
    "- 字典 dict\n",
    "- 集合 set "
   ]
  },
  {
   "cell_type": "markdown",
   "metadata": {},
   "source": [
    "# 数字类型 number\n",
    "- Python数字没有大小限制\n",
    "# 常见数字分类\n",
    "- 整数\n",
    " - 包含正数，负数， 0\n",
    " - 二进制 以0b开头的就是二进制，例：0b10101\n",
    " - 八进制 以0o开头就是八进制，例：0o77\n",
    " - 十六进制 以0x开头就是十六进制 ， 例：oxaf\n",
    "- 浮点数\n",
    "- 科学计数\n",
    "- 复数"
   ]
  },
  {
   "cell_type": "code",
   "execution_count": 15,
   "metadata": {
    "scrolled": true
   },
   "outputs": [
    {
     "name": "stdout",
     "output_type": "stream",
     "text": [
      "3\n"
     ]
    }
   ],
   "source": [
    "#二进制\n",
    "s1 = 0b011\n",
    "print(s1)"
   ]
  },
  {
   "cell_type": "code",
   "execution_count": 17,
   "metadata": {},
   "outputs": [
    {
     "name": "stdout",
     "output_type": "stream",
     "text": [
      "63\n"
     ]
    }
   ],
   "source": [
    "#八进制\n",
    "si = 0o77\n",
    "print(si)"
   ]
  },
  {
   "cell_type": "code",
   "execution_count": 21,
   "metadata": {
    "scrolled": false
   },
   "outputs": [
    {
     "name": "stdout",
     "output_type": "stream",
     "text": [
      "174\n"
     ]
    }
   ],
   "source": [
    "#十六进制\n",
    "so = 0xae\n",
    "print(so)"
   ]
  },
  {
   "cell_type": "markdown",
   "metadata": {},
   "source": [
    "# 浮点数\n",
    "- 小数\n",
    "- 常见的格式 \n",
    " - .4 = 0.4\n",
    "# 科学计数法\n",
    "- 跟数学上定义的一样\n",
    "- 写法就是e后跟整数用来表示10的倍数\n"
   ]
  },
  {
   "cell_type": "code",
   "execution_count": 25,
   "metadata": {},
   "outputs": [
    {
     "name": "stdout",
     "output_type": "stream",
     "text": [
      "175.0\n",
      "0.2\n"
     ]
    }
   ],
   "source": [
    "#科学计数法\n",
    "height= 1.75e2 # 1.75 * 10^2\n",
    "print(height)\n",
    "\n",
    "#浮点数\n",
    "f = .2\n",
    "print (f)"
   ]
  },
  {
   "cell_type": "markdown",
   "metadata": {},
   "source": [
    "# 复数\n",
    "- 跟数学定义一样\n",
    "- 复数用虚部表示 j/J 表示 例：5+4j / 4j / (4j)"
   ]
  },
  {
   "cell_type": "code",
   "execution_count": 27,
   "metadata": {},
   "outputs": [
    {
     "name": "stdout",
     "output_type": "stream",
     "text": [
      "4j\n"
     ]
    }
   ],
   "source": [
    "a = 4j\n",
    "print(a)"
   ]
  },
  {
   "cell_type": "markdown",
   "metadata": {},
   "source": [
    "# 布尔值\n",
    "- 表示 真假\n",
    "- 只有两个值 True / False\n",
    "- 在Python中，布尔值可以当数字使用\n",
    " - 布尔值如果当数字使用 True = 1, False = 0\n",
    " - 如果用数字当做布尔值使用，0= False，其余当做True"
   ]
  },
  {
   "cell_type": "code",
   "execution_count": 31,
   "metadata": {},
   "outputs": [
    {
     "name": "stdout",
     "output_type": "stream",
     "text": [
      "19\n",
      "18\n",
      "ture\n"
     ]
    }
   ],
   "source": [
    "#布尔值 \n",
    "age = 18 + True\n",
    "print(age)\n",
    "\n",
    "age = 18 + False\n",
    "print (age)\n",
    "\n",
    "#判断语句\n",
    "a = -1\n",
    "if a:\n",
    "    print(\"ture\")\n",
    "else :\n",
    "    print(\"false\")\n"
   ]
  },
  {
   "cell_type": "markdown",
   "metadata": {},
   "source": [
    "# 字符串\n",
    "- 表达文字信息\n",
    "- 形式上用引号引起来的一段内容\n",
    "- 引号 单双引号只能表示一行信息\n",
    "  - 单引号\n",
    "  - 双引号\n",
    "  - 三引号 可以用来表示多行信息\n",
    "- 单双引号含义一致字符\n",
    "\n",
    "## 转义字符\n",
    "- 用一个特殊的方法表示出一系列不方便写的内容，例：回车，换行，退格\n",
    "- 借助反斜杠，一旦字符串中出现反斜杠则反斜杠后一个或几个字符表示已经不是原来的意思，进行转义\n",
    "- 注意字符串中转义符号\n",
    "- 不同系统对换行符解释不同"
   ]
  },
  {
   "cell_type": "code",
   "execution_count": 43,
   "metadata": {
    "scrolled": true
   },
   "outputs": [
    {
     "name": "stdout",
     "output_type": "stream",
     "text": [
      "adfdsf\n",
      "asdfasdf\n",
      "\n",
      "adsf\n",
      "asdf\n",
      "asdfqw\n",
      "er\n",
      "qwe\n",
      "adsf·\n",
      "\n",
      "let's go\n",
      "let's go\n",
      "s:\\user\n"
     ]
    }
   ],
   "source": [
    "#字符串\n",
    "love = \"adfdsf\"\n",
    "print(love)\n",
    "\n",
    "love1 = 'asdfasdf'\n",
    "print(love1)\n",
    "\n",
    "love2 = \"\"\"\n",
    "adsf\n",
    "asdf\n",
    "asdfqw\n",
    "er\n",
    "qwe\n",
    "adsf·\n",
    "\"\"\"\n",
    "print(love2)\n",
    "\n",
    "\n",
    "# 如果想表示let's go\n",
    "#1， 可以使用引号嵌套法\n",
    "#2， 转义字符\n",
    "s = \"let's go\"\n",
    "print(s)\n",
    "\n",
    "s = 'let\\'s go'\n",
    "print(s)\n",
    "\n",
    "str = \"s:\\\\user\"\n",
    "print(str)\n",
    "\n",
    "#回车换行符 \\r \\n\n"
   ]
  },
  {
   "cell_type": "markdown",
   "metadata": {},
   "source": [
    "## 字符串的格式化\n",
    "- 把字符串按照一定格式打印或填充\n",
    "- 格式化由两种方法\n",
    "    - 利用%\n",
    "    - 利用 format"
   ]
  },
  {
   "cell_type": "code",
   "execution_count": 44,
   "metadata": {},
   "outputs": [],
   "source": [
    "s = \"xxx 你好\""
   ]
  },
  {
   "cell_type": "markdown",
   "metadata": {},
   "source": [
    "# 利用百分号格式化\n",
    "- 在字符串中，利用%表示一个特殊的含义，表示对字符串进行格式化\n",
    "- %d：此处应该放入一个整数\n",
    "- %s：此处放入一个字符串"
   ]
  },
  {
   "cell_type": "code",
   "execution_count": 55,
   "metadata": {},
   "outputs": [
    {
     "name": "stdout",
     "output_type": "stream",
     "text": [
      "%d, 你好\n"
     ]
    }
   ],
   "source": [
    "s = \"%d, 你好\"\n",
    "#下面直接把%d打印出来了\n",
    "print(s)"
   ]
  },
  {
   "cell_type": "code",
   "execution_count": 57,
   "metadata": {},
   "outputs": [
    {
     "name": "stdout",
     "output_type": "stream",
     "text": [
      "i love adf\n"
     ]
    }
   ],
   "source": [
    "print(\"i love %s\"%\"adf\")"
   ]
  },
  {
   "cell_type": "code",
   "execution_count": 60,
   "metadata": {},
   "outputs": [
    {
     "name": "stdout",
     "output_type": "stream",
     "text": [
      "1 nihao\n"
     ]
    }
   ],
   "source": [
    "s = \"%d nihao\"\n",
    "print(s % 1)"
   ]
  },
  {
   "cell_type": "code",
   "execution_count": 62,
   "metadata": {},
   "outputs": [
    {
     "name": "stdout",
     "output_type": "stream",
     "text": [
      "i am %d years old\n",
      "i am 18 years old\n"
     ]
    }
   ],
   "source": [
    "s = \"i am %d years old\"\n",
    "print(s)\n",
    "print(s % 18)"
   ]
  },
  {
   "cell_type": "code",
   "execution_count": 65,
   "metadata": {},
   "outputs": [
    {
     "name": "stdout",
     "output_type": "stream",
     "text": [
      "i'm %s, i'm %d years old\n",
      "i'm asdf, i'm 18 years old\n"
     ]
    }
   ],
   "source": [
    "s = \"i'm %s, i'm %d years old\"\n",
    "print(s)\n",
    "print(s%(\"asdf\",18))"
   ]
  },
  {
   "cell_type": "markdown",
   "metadata": {},
   "source": [
    "### format函数格式化字符串\n",
    "- 直接用format函数进行格式化\n",
    "- 推荐用这种方法\n",
    "- 在使用上，以｛｝和.代替%号"
   ]
  },
  {
   "cell_type": "code",
   "execution_count": 69,
   "metadata": {},
   "outputs": [
    {
     "name": "stdout",
     "output_type": "stream",
     "text": [
      "i love asdf\n",
      "i love 1, and adsf, who:1,wer:18\n"
     ]
    }
   ],
   "source": [
    "s = 'i love {}'.format(\"asdf\")\n",
    "print(s)\n",
    "\n",
    "s = \"i love {1}, and{0}, who:{1},wer:{2}\".format(\" adsf\",1,18)\n",
    "print(s)"
   ]
  },
  {
   "cell_type": "markdown",
   "metadata": {},
   "source": [
    "# None类型\n",
    "- 表示没有，通常用来占位 例：用来表示返回一个空"
   ]
  },
  {
   "cell_type": "markdown",
   "metadata": {},
   "source": [
    "# 表达式\n",
    "- 由一个或几个数字或者变量或者运算符 合成的一行代码\n",
    "- 通常返回一个结果\n",
    "\n",
    "# 运算符\n",
    "- 由一个以上的值经过一系列运算的过程就叫运算\n",
    "- 用来操作运算的符号就叫运算符\n",
    "- 运算符分类\n",
    "    - 算数运算符\n",
    "    - 比较或者关系运算符\n",
    "    - 赋值运算符\n",
    "    - 逻辑运算符\n",
    "    - 位运算符\n",
    "    - 成员运算符\n",
    "    - 身份运算符\n"
   ]
  },
  {
   "cell_type": "code",
   "execution_count": null,
   "metadata": {},
   "outputs": [],
   "source": []
  },
  {
   "cell_type": "code",
   "execution_count": 38,
   "metadata": {},
   "outputs": [],
   "source": [
    "# 表达式\n",
    "a = 1+2"
   ]
  },
  {
   "cell_type": "markdown",
   "metadata": {},
   "source": [
    "## 算数运算符\n",
    "- 用来进行算数运算的符号\n",
    "- 通常用来表示加减乘除\n",
    "- Python没有自增自减 运算符"
   ]
  },
  {
   "cell_type": "code",
   "execution_count": 41,
   "metadata": {
    "scrolled": true
   },
   "outputs": [
    {
     "name": "stdout",
     "output_type": "stream",
     "text": [
      "8\n",
      "11\n",
      "16\n",
      "4.5\n",
      "4\n",
      "1\n",
      "-3\n"
     ]
    }
   ],
   "source": [
    "#算数运算符\n",
    "#加减乘除 跟数学 基本一致\n",
    "a = 9 - 1\n",
    "print(a)\n",
    "b = 9 + 2\n",
    "print(b)\n",
    "c = 8 *2\n",
    "print(c)\n",
    "#python 除法 分为 普通除法， 地板除 ， 取余\n",
    "\n",
    "#普通除法\n",
    "a = 9 / 2\n",
    "print(a)\n",
    "\n",
    "#地板除 取整\n",
    "a = 9 // 2\n",
    "print(a)\n",
    "\n",
    "#取余\n",
    "a = 9 % 2\n",
    "print(a)\n",
    "\n",
    "#取余 负数的结果 参考数学定义\n",
    "a = 9 % -4  #（9-x）/ (-4) = y 余 0\n",
    "print(a)"
   ]
  },
  {
   "cell_type": "code",
   "execution_count": null,
   "metadata": {},
   "outputs": [],
   "source": [
    "#比较运算符\n"
   ]
  }
 ],
 "metadata": {
  "kernelspec": {
   "display_name": "Python 3",
   "language": "python",
   "name": "python3"
  },
  "language_info": {
   "codemirror_mode": {
    "name": "ipython",
    "version": 3
   },
   "file_extension": ".py",
   "mimetype": "text/x-python",
   "name": "python",
   "nbconvert_exporter": "python",
   "pygments_lexer": "ipython3",
   "version": "3.7.1"
  }
 },
 "nbformat": 4,
 "nbformat_minor": 2
}
