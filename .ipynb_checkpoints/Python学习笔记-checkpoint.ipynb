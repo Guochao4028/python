{
 "cells": [
  {
   "cell_type": "code",
   "execution_count": 1,
   "metadata": {},
   "outputs": [
    {
     "name": "stdout",
     "output_type": "stream",
     "text": [
      "18\n"
     ]
    }
   ],
   "source": [
    "# 变量\n",
    "varName = 18\n",
    "print(varName)"
   ]
  },
  {
   "cell_type": "code",
   "execution_count": 37,
   "metadata": {},
   "outputs": [
    {
     "name": "stdout",
     "output_type": "stream",
     "text": [
      "['False', 'None', 'True', 'and', 'as', 'assert', 'async', 'await', 'break', 'class', 'continue', 'def', 'del', 'elif', 'else', 'except', 'finally', 'for', 'from', 'global', 'if', 'import', 'in', 'is', 'lambda', 'nonlocal', 'not', 'or', 'pass', 'raise', 'return', 'try', 'while', 'with', 'yield']\n"
     ]
    }
   ],
   "source": [
    "#关键字\n",
    "import keyword #引关键字包\n",
    "print(keyword.kwlist)"
   ]
  },
  {
   "cell_type": "code",
   "execution_count": 2,
   "metadata": {},
   "outputs": [
    {
     "name": "stdout",
     "output_type": "stream",
     "text": [
      "test\n"
     ]
    }
   ],
   "source": [
    "varStr = \"test\"\n",
    "print(varStr)"
   ]
  },
  {
   "cell_type": "code",
   "execution_count": 3,
   "metadata": {},
   "outputs": [
    {
     "name": "stdout",
     "output_type": "stream",
     "text": [
      "1 2 3\n"
     ]
    }
   ],
   "source": [
    "age,age1,age2 = 1,2,3\n",
    "print(age,age1,age2)"
   ]
  },
  {
   "cell_type": "code",
   "execution_count": 1,
   "metadata": {},
   "outputs": [
    {
     "name": "stdout",
     "output_type": "stream",
     "text": [
      "91 91 91\n"
     ]
    }
   ],
   "source": [
    "age = age1 = age2 = 91\n",
    "print(age,age1,age2)"
   ]
  },
  {
   "cell_type": "markdown",
   "metadata": {},
   "source": [
    "写学习笔记，notebook"
   ]
  },
  {
   "cell_type": "markdown",
   "metadata": {},
   "source": [
    "markdown需要学习"
   ]
  },
  {
   "cell_type": "code",
   "execution_count": 4,
   "metadata": {},
   "outputs": [
    {
     "name": "stdout",
     "output_type": "stream",
     "text": [
      "adf\n"
     ]
    }
   ],
   "source": [
    "#打印字符串\n",
    "print(\"adf\")\n"
   ]
  },
  {
   "cell_type": "markdown",
   "metadata": {},
   "source": [
    "# 变量\n",
    "- markdoem 跟vim模式很像\n",
    "- 变量 不需要前置声明类型\n"
   ]
  },
  {
   "cell_type": "code",
   "execution_count": 14,
   "metadata": {},
   "outputs": [
    {
     "name": "stdout",
     "output_type": "stream",
     "text": [
      "str : p str : p asdf1 3 asdf2\n"
     ]
    }
   ],
   "source": [
    "str1 = \"asdf\"\n",
    "str2 = str1 = \"str : p\"\n",
    "str3, str4, str5 = \"asdf1\",3,\"asdf2\"\n",
    "print(str1,str2,str3,str4,str5)"
   ]
  },
  {
   "cell_type": "markdown",
   "metadata": {},
   "source": [
    "# 变量类型\n",
    "- Python 弱类型\n",
    "- 严格意义上讲，Python只有一种类型\n",
    "- 数字 number\n",
    "- 字符串 str\n",
    "- 列表 list\n",
    "- 元祖 tuple\n",
    "- 字典 dict\n",
    "- 集合 set "
   ]
  },
  {
   "cell_type": "markdown",
   "metadata": {},
   "source": [
    "# 数字类型 number\n",
    "- Python数字没有大小限制\n",
    "# 常见数字分类\n",
    "- 整数\n",
    " - 包含正数，负数， 0\n",
    " - 二进制 以0b开头的就是二进制，例：0b10101\n",
    " - 八进制 以0o开头就是八进制，例：0o77\n",
    " - 十六进制 以0x开头就是十六进制 ， 例：oxaf\n",
    "- 浮点数\n",
    "- 科学计数\n",
    "- 复数"
   ]
  },
  {
   "cell_type": "code",
   "execution_count": 15,
   "metadata": {
    "scrolled": true
   },
   "outputs": [
    {
     "name": "stdout",
     "output_type": "stream",
     "text": [
      "3\n"
     ]
    }
   ],
   "source": [
    "#二进制\n",
    "s1 = 0b011\n",
    "print(s1)"
   ]
  },
  {
   "cell_type": "code",
   "execution_count": 17,
   "metadata": {},
   "outputs": [
    {
     "name": "stdout",
     "output_type": "stream",
     "text": [
      "63\n"
     ]
    }
   ],
   "source": [
    "#八进制\n",
    "si = 0o77\n",
    "print(si)"
   ]
  },
  {
   "cell_type": "code",
   "execution_count": 21,
   "metadata": {
    "scrolled": false
   },
   "outputs": [
    {
     "name": "stdout",
     "output_type": "stream",
     "text": [
      "174\n"
     ]
    }
   ],
   "source": [
    "#十六进制\n",
    "so = 0xae\n",
    "print(so)"
   ]
  },
  {
   "cell_type": "markdown",
   "metadata": {},
   "source": [
    "# 浮点数\n",
    "- 小数\n",
    "- 常见的格式 \n",
    " - .4 = 0.4\n",
    "# 科学计数法\n",
    "- 跟数学上定义的一样\n",
    "- 写法就是e后跟整数用来表示10的倍数\n"
   ]
  },
  {
   "cell_type": "code",
   "execution_count": 25,
   "metadata": {},
   "outputs": [
    {
     "name": "stdout",
     "output_type": "stream",
     "text": [
      "175.0\n",
      "0.2\n"
     ]
    }
   ],
   "source": [
    "#科学计数法\n",
    "height= 1.75e2 # 1.75 * 10^2\n",
    "print(height)\n",
    "\n",
    "#浮点数\n",
    "f = .2\n",
    "print (f)"
   ]
  },
  {
   "cell_type": "markdown",
   "metadata": {},
   "source": [
    "# 复数\n",
    "- 跟数学定义一样\n",
    "- 复数用虚部表示 j/J 表示 例：5+4j / 4j / (4j)"
   ]
  },
  {
   "cell_type": "code",
   "execution_count": 27,
   "metadata": {},
   "outputs": [
    {
     "name": "stdout",
     "output_type": "stream",
     "text": [
      "4j\n"
     ]
    }
   ],
   "source": [
    "a = 4j\n",
    "print(a)"
   ]
  },
  {
   "cell_type": "markdown",
   "metadata": {},
   "source": [
    "# 布尔值\n",
    "- 表示 真假\n",
    "- 只有两个值 True / False\n",
    "- 在Python中，布尔值可以当数字使用\n",
    " - 布尔值如果当数字使用 True = 1, False = 0\n",
    " - 如果用数字当做布尔值使用，0= False，其余当做True"
   ]
  },
  {
   "cell_type": "code",
   "execution_count": 31,
   "metadata": {},
   "outputs": [
    {
     "name": "stdout",
     "output_type": "stream",
     "text": [
      "19\n",
      "18\n",
      "ture\n"
     ]
    }
   ],
   "source": [
    "#布尔值 \n",
    "age = 18 + True\n",
    "print(age)\n",
    "\n",
    "age = 18 + False\n",
    "print (age)\n",
    "\n",
    "#判断语句\n",
    "a = -1\n",
    "if a:\n",
    "    print(\"ture\")\n",
    "else :\n",
    "    print(\"false\")\n"
   ]
  },
  {
   "cell_type": "markdown",
   "metadata": {},
   "source": [
    "# 字符串\n",
    "- 表达文字信息\n",
    "- 形式上用引号引起来的一段内容\n",
    "- 引号 单双引号只能表示一行信息\n",
    "  - 单引号\n",
    "  - 双引号\n",
    "  - 三引号 可以用来表示多行信息\n",
    "- 单双引号含义一致字符\n",
    "\n",
    "## 转义字符\n",
    "- 用一个特殊的方法表示出一系列不方便写的内容，例：回车，换行，退格\n",
    "- 借助反斜杠，一旦字符串中出现反斜杠则反斜杠后一个或几个字符表示已经不是原来的意思，进行转义\n",
    "- 注意字符串中转义符号\n",
    "- 不同系统对换行符解释不同"
   ]
  },
  {
   "cell_type": "code",
   "execution_count": 43,
   "metadata": {
    "scrolled": true
   },
   "outputs": [
    {
     "name": "stdout",
     "output_type": "stream",
     "text": [
      "adfdsf\n",
      "asdfasdf\n",
      "\n",
      "adsf\n",
      "asdf\n",
      "asdfqw\n",
      "er\n",
      "qwe\n",
      "adsf·\n",
      "\n",
      "let's go\n",
      "let's go\n",
      "s:\\user\n"
     ]
    }
   ],
   "source": [
    "#字符串\n",
    "love = \"adfdsf\"\n",
    "print(love)\n",
    "\n",
    "love1 = 'asdfasdf'\n",
    "print(love1)\n",
    "\n",
    "love2 = \"\"\"\n",
    "adsf\n",
    "asdf\n",
    "asdfqw\n",
    "er\n",
    "qwe\n",
    "adsf·\n",
    "\"\"\"\n",
    "print(love2)\n",
    "\n",
    "\n",
    "# 如果想表示let's go\n",
    "#1， 可以使用引号嵌套法\n",
    "#2， 转义字符\n",
    "s = \"let's go\"\n",
    "print(s)\n",
    "\n",
    "s = 'let\\'s go'\n",
    "print(s)\n",
    "\n",
    "str = \"s:\\\\user\"\n",
    "print(str)\n",
    "\n",
    "#回车换行符 \\r \\n\n"
   ]
  },
  {
   "cell_type": "markdown",
   "metadata": {},
   "source": [
    "## 字符串的格式化\n",
    "- 把字符串按照一定格式打印或填充\n",
    "- 格式化由两种方法\n",
    "    - 利用%\n",
    "    - 利用 format"
   ]
  },
  {
   "cell_type": "code",
   "execution_count": 44,
   "metadata": {},
   "outputs": [],
   "source": [
    "s = \"xxx 你好\""
   ]
  },
  {
   "cell_type": "markdown",
   "metadata": {},
   "source": [
    "# 利用百分号格式化\n",
    "- 在字符串中，利用%表示一个特殊的含义，表示对字符串进行格式化\n",
    "- %d：此处应该放入一个整数\n",
    "- %s：此处放入一个字符串"
   ]
  },
  {
   "cell_type": "code",
   "execution_count": 55,
   "metadata": {},
   "outputs": [
    {
     "name": "stdout",
     "output_type": "stream",
     "text": [
      "%d, 你好\n"
     ]
    }
   ],
   "source": [
    "s = \"%d, 你好\"\n",
    "#下面直接把%d打印出来了\n",
    "print(s)"
   ]
  },
  {
   "cell_type": "code",
   "execution_count": 57,
   "metadata": {},
   "outputs": [
    {
     "name": "stdout",
     "output_type": "stream",
     "text": [
      "i love adf\n"
     ]
    }
   ],
   "source": [
    "print(\"i love %s\"%\"adf\")"
   ]
  },
  {
   "cell_type": "code",
   "execution_count": 60,
   "metadata": {},
   "outputs": [
    {
     "name": "stdout",
     "output_type": "stream",
     "text": [
      "1 nihao\n"
     ]
    }
   ],
   "source": [
    "s = \"%d nihao\"\n",
    "print(s % 1)"
   ]
  },
  {
   "cell_type": "code",
   "execution_count": 62,
   "metadata": {},
   "outputs": [
    {
     "name": "stdout",
     "output_type": "stream",
     "text": [
      "i am %d years old\n",
      "i am 18 years old\n"
     ]
    }
   ],
   "source": [
    "s = \"i am %d years old\"\n",
    "print(s)\n",
    "print(s % 18)"
   ]
  },
  {
   "cell_type": "code",
   "execution_count": 65,
   "metadata": {},
   "outputs": [
    {
     "name": "stdout",
     "output_type": "stream",
     "text": [
      "i'm %s, i'm %d years old\n",
      "i'm asdf, i'm 18 years old\n"
     ]
    }
   ],
   "source": [
    "s = \"i'm %s, i'm %d years old\"\n",
    "print(s)\n",
    "print(s%(\"asdf\",18))"
   ]
  },
  {
   "cell_type": "markdown",
   "metadata": {},
   "source": [
    "### format函数格式化字符串\n",
    "- 直接用format函数进行格式化\n",
    "- 推荐用这种方法\n",
    "- 在使用上，以｛｝和.代替%号"
   ]
  },
  {
   "cell_type": "code",
   "execution_count": 69,
   "metadata": {},
   "outputs": [
    {
     "name": "stdout",
     "output_type": "stream",
     "text": [
      "i love asdf\n",
      "i love 1, and adsf, who:1,wer:18\n"
     ]
    }
   ],
   "source": [
    "s = 'i love {}'.format(\"asdf\")\n",
    "print(s)\n",
    "\n",
    "s = \"i love {1}, and{0}, who:{1},wer:{2}\".format(\" adsf\",1,18)\n",
    "print(s)"
   ]
  },
  {
   "cell_type": "markdown",
   "metadata": {},
   "source": [
    "# None类型\n",
    "- 表示没有，通常用来占位 例：用来表示返回一个空\n",
    "- 解除变量的绑定"
   ]
  },
  {
   "cell_type": "markdown",
   "metadata": {},
   "source": [
    "# 表达式\n",
    "- 由一个或几个数字或者变量或者运算符 合成的一行代码\n",
    "- 通常返回一个结果\n",
    "\n",
    "# 运算符\n",
    "- 由一个以上的值经过一系列运算的过程就叫运算\n",
    "- 用来操作运算的符号就叫运算符\n",
    "- 运算符分类\n",
    "    - 算数运算符\n",
    "    - 比较或者关系运算符\n",
    "    - 赋值运算符\n",
    "    - 逻辑运算符\n",
    "    - 位运算符\n",
    "    - 成员运算符\n",
    "    - 身份运算符\n"
   ]
  },
  {
   "cell_type": "code",
   "execution_count": null,
   "metadata": {},
   "outputs": [],
   "source": []
  },
  {
   "cell_type": "code",
   "execution_count": 38,
   "metadata": {},
   "outputs": [],
   "source": [
    "# 表达式\n",
    "a = 1+2"
   ]
  },
  {
   "cell_type": "markdown",
   "metadata": {},
   "source": [
    "## 算数运算符\n",
    "- 用来进行算数运算的符号\n",
    "- 通常用来表示加减乘除\n",
    "- Python没有自增自减 运算符"
   ]
  },
  {
   "cell_type": "code",
   "execution_count": 70,
   "metadata": {
    "scrolled": true
   },
   "outputs": [
    {
     "name": "stdout",
     "output_type": "stream",
     "text": [
      "8\n",
      "11\n",
      "16\n",
      "4.5\n",
      "4\n",
      "1\n",
      "-3\n",
      "6561\n"
     ]
    }
   ],
   "source": [
    "#算数运算符\n",
    "#加减乘除 跟数学 基本一致\n",
    "a = 9 - 1\n",
    "print(a)\n",
    "b = 9 + 2\n",
    "print(b)\n",
    "c = 8 *2\n",
    "print(c)\n",
    "#python 除法 分为 普通除法， 地板除 ， 取余\n",
    "\n",
    "#普通除法\n",
    "a = 9 / 2\n",
    "print(a)\n",
    "\n",
    "#地板除 取整\n",
    "a = 9 // 2\n",
    "print(a)\n",
    "\n",
    "#取余\n",
    "#两处相除有商数有余数\n",
    "# % 只会取余数\n",
    "a = 9 % 2\n",
    "print(a)\n",
    "\n",
    "#取余 负数的结果 参考数学定义\n",
    "a = 9 % -4  #（9-x）/ (-4) = y 余 0\n",
    "print(a)\n",
    "\n",
    "# ** 表示幂运算\n",
    "a = 9 ** 4\n",
    "print(a)\n"
   ]
  },
  {
   "cell_type": "markdown",
   "metadata": {},
   "source": [
    "# 比较运算符\n",
    "- 对两个变量或者值进行比较运算\n",
    "- 比较结果是布尔值 即 True/False"
   ]
  },
  {
   "cell_type": "code",
   "execution_count": 77,
   "metadata": {},
   "outputs": [
    {
     "name": "stdout",
     "output_type": "stream",
     "text": [
      "False\n",
      "True\n"
     ]
    }
   ],
   "source": [
    "# == ，等于号\n",
    "a = 3 ** 4\n",
    "# 下面语句执行顺序\n",
    "# 1，计算 a == 80\n",
    "# 2， 把结果放入 b\n",
    "b = a == 80\n",
    "print(b)\n",
    "\n",
    "# != ,不等于\n",
    "print(9 != 8)\n",
    "\n",
    "# > 大于\n",
    "#< 小于\n",
    "# >= 大于等于\n",
    "#<= 小于等于"
   ]
  },
  {
   "cell_type": "markdown",
   "metadata": {},
   "source": [
    "# 赋值运算符"
   ]
  },
  {
   "cell_type": "code",
   "execution_count": 79,
   "metadata": {},
   "outputs": [
    {
     "name": "stdout",
     "output_type": "stream",
     "text": [
      "7\n"
     ]
    }
   ],
   "source": [
    "# = ，赋值\n",
    "a = 0\n",
    "c = a = 4\n",
    "\n",
    "# += ,是缩写\n",
    "a = 0\n",
    "a += 7 # a = a + 7的缩写\n",
    "print(a)\n",
    "\n",
    "#所有的数学运算符都有缩写形式\n",
    "# -=, *=,/=,//=,%=,**= 都是缩写形式"
   ]
  },
  {
   "cell_type": "markdown",
   "metadata": {},
   "source": [
    "# 逻辑运算符\n",
    "- 对布尔值进行计算的符号\n",
    "- and 逻辑与\n",
    "- or 逻辑或\n",
    "- not 逻辑非\n",
    "- Python中逻辑运算没有异或运算\n",
    "- 运算规程\n",
    "    - and 看做乘法 ， or 看做加法\n",
    "    - True 看做1， False看做0\n",
    "    - 则逻辑运算就能转成数学运算\n",
    "    - 最后结果是0 为False, 1 为True\n",
    "- 逻辑运算短路问题\n",
    "    - 逻辑运算式，按照运算顺序计算，一旦能够确定整个式子未来的值，则不再进行计算，直接返回"
   ]
  },
  {
   "cell_type": "code",
   "execution_count": 81,
   "metadata": {},
   "outputs": [
    {
     "name": "stdout",
     "output_type": "stream",
     "text": [
      "True\n"
     ]
    }
   ],
   "source": [
    "# 逻辑运算\n",
    "a = True\n",
    "b = False\n",
    "c = True\n",
    "\n",
    "d = a and b or c # 1 * 0 +1\n",
    "print(d)\n"
   ]
  },
  {
   "cell_type": "code",
   "execution_count": 85,
   "metadata": {},
   "outputs": [
    {
     "ename": "SyntaxError",
     "evalue": "invalid syntax (<ipython-input-85-ad8300655dfa>, line 10)",
     "output_type": "error",
     "traceback": [
      "\u001b[1;36m  File \u001b[1;32m\"<ipython-input-85-ad8300655dfa>\"\u001b[1;36m, line \u001b[1;32m10\u001b[0m\n\u001b[1;33m    a = a or (b = 9) and 6\u001b[0m\n\u001b[1;37m                ^\u001b[0m\n\u001b[1;31mSyntaxError\u001b[0m\u001b[1;31m:\u001b[0m invalid syntax\n"
     ]
    }
   ],
   "source": [
    "#逻辑短路 \n",
    "# 下面的逻辑表达式 ，a的值一定是True 则运行到or的时候，整个表达式不再向下计算\n",
    "a = True or xxxxxxxxxxxxxxxx\n",
    "\n",
    "#下面表达式，如果xxx中包含赋值表达式，则结果很难预期\n",
    "#代码示例（伪代码）\n",
    "b = 0\n",
    "#假定下面的表达式如果没有语法错误\n",
    "#则b最终的值应该是0不是9\n",
    "a = a or (b = 9) and 6\n",
    "print(b)\n",
    "print(a)"
   ]
  },
  {
   "cell_type": "markdown",
   "metadata": {},
   "source": [
    "# 成员运算符号\n",
    "- 用来检测某一个变量是否是另一个变量的成员\n",
    "- in\n",
    "- not in"
   ]
  },
  {
   "cell_type": "code",
   "execution_count": 87,
   "metadata": {},
   "outputs": [
    {
     "name": "stdout",
     "output_type": "stream",
     "text": [
      "False\n",
      "True\n",
      "False\n"
     ]
    }
   ],
   "source": [
    "l = [1,2,3,4,5]\n",
    "a = 7\n",
    "b = a in l\n",
    "print(b)\n",
    "\n",
    "a = 4\n",
    "print(a in l)\n",
    "\n",
    "print(a not in l)"
   ]
  },
  {
   "cell_type": "markdown",
   "metadata": {},
   "source": [
    "# 身份运算\n",
    "- is :用来检测两个变量是否是同一个变量\n",
    "    - 语法 var1 is var2\n",
    "- is not 两个变量不是同一个变量"
   ]
  },
  {
   "cell_type": "code",
   "execution_count": 90,
   "metadata": {},
   "outputs": [
    {
     "name": "stdout",
     "output_type": "stream",
     "text": [
      "True\n",
      "False\n"
     ]
    }
   ],
   "source": [
    "a = 9\n",
    "b = 9\n",
    "print(a is b)\n",
    "\n",
    "a = \"i love\"\n",
    "b = \"i love\"\n",
    "print(a is b)"
   ]
  },
  {
   "cell_type": "markdown",
   "metadata": {},
   "source": [
    "## 运算符的优先级问题\n",
    "- 永远记住，括号具有最高优先级\n",
    "- 优先级说明\n",
    "    \n",
    "    \n",
    "         ** 指数（最高优先级）\n",
    "         - + - 按位翻转， 一元加号和减号（最后两个的方法名为+@和-@）\n",
    "         * / % // 乘，除，取余，整除\n",
    "         + - 加法减法\n",
    "         >> << 左移右移\n",
    "         & 位 ‘and’\n",
    "         ^ |位运算符\n",
    "         <= < > >= 比较运算\n",
    "         == != 等于运算\n",
    "         = %= /= //= *= += -= **= 赋值运算\n",
    "         is is not 身份运算\n",
    "         in not in 成员运算\n",
    "         not or and 逻辑运算"
   ]
  },
  {
   "cell_type": "markdown",
   "metadata": {},
   "source": [
    "# 程序结构\n",
    "- 顺序\n",
    "- 分支\n",
    "- 循环"
   ]
  },
  {
   "cell_type": "markdown",
   "metadata": {},
   "source": [
    "# 分支\n",
    "- 分支的基本语法     \n",
    "        \n",
    "        if 条件表达式：\n",
    "            语句1\n",
    "            语句2\n",
    "            语句3\n",
    "            .........\n",
    "            \n",
    "- 条件表达式就是计算结果必须为布尔值的表达式\n",
    "- 表达式后面的冒号不能少\n",
    "- 注意if后面的出现的语句，如果属于if语句块，则必须同一个缩进等级\n",
    "- 条件表达式结果为True执行if后面的缩进的语句块\n"
   ]
  },
  {
   "cell_type": "code",
   "execution_count": 94,
   "metadata": {},
   "outputs": [
    {
     "name": "stdout",
     "output_type": "stream",
     "text": [
      "adf\n"
     ]
    }
   ],
   "source": [
    "#if语句练习\n",
    "#如果age小于18岁，则打印信息“adf”\n",
    "\n",
    "age = 17\n",
    "if age < 18:\n",
    "    print(\"adf\")"
   ]
  },
  {
   "cell_type": "code",
   "execution_count": 96,
   "metadata": {},
   "outputs": [
    {
     "name": "stdout",
     "output_type": "stream",
     "text": [
      "123\n"
     ]
    }
   ],
   "source": [
    "age = 19\n",
    "if age < 18:\n",
    "    print(\"adf\")\n",
    "print(123)"
   ]
  },
  {
   "cell_type": "markdown",
   "metadata": {},
   "source": [
    "### 双向分支\n",
    "- if...else...语句\n",
    "\n",
    "        if 条件表达式:\n",
    "            语句1\n",
    "            语句2\n",
    "            ....\n",
    "        else:\n",
    "            语句1\n",
    "            语句2\n",
    "            ....\n",
    "            \n",
    "- 双向分支有两个分支，当程序执行if..else...语句的时候,一定会执行if或者else中的一个,也仅执行一个\n",
    "- 缩进问题, if和else一个层级,其他语句一个层级\n",
    "        "
   ]
  },
  {
   "cell_type": "code",
   "execution_count": 104,
   "metadata": {},
   "outputs": [
    {
     "name": "stdout",
     "output_type": "stream",
     "text": [
      "输入性别:\n",
      "输入的性别为:\n",
      "b\n",
      "c\n"
     ]
    }
   ],
   "source": [
    "#input 的作用\n",
    "#1，在屏幕上输出括号内的字符串\n",
    "#2，接受用户输入的内容病返回程序\n",
    "#3，input返回的内容一个是字符串类型\n",
    "\n",
    "gander = input(\"输入性别:\")\n",
    "print(\"输入的性别为:{0}\".format(gander))\n",
    "if gander == \"nan\":\n",
    "    print(\"a\")\n",
    "else:\n",
    "    print(\"b\")\n",
    "print(\"c\")\n"
   ]
  },
  {
   "cell_type": "code",
   "execution_count": 113,
   "metadata": {},
   "outputs": [
    {
     "name": "stdout",
     "output_type": "stream",
     "text": [
      "输入成绩90\n",
      "良\n"
     ]
    }
   ],
   "source": [
    "#考试成绩\n",
    "#90以上：优秀\n",
    "#80-90：良\n",
    "#70-80：中\n",
    "#60-70：平\n",
    "#60 以下：差\n",
    "cj = input(\"输入成绩\")\n",
    "\n",
    "#需要把字符串转成int\n",
    "cj = int(cj)\n",
    "\n",
    "if cj > 90:\n",
    "    print(\"优秀\")\n",
    "elif cj >80 and cj <= 90:\n",
    "    print(\"良\")\n",
    "elif cj >70 and cj <= 80:\n",
    "    print(\"中\")\n",
    "elif cj > 60 and cj <= 70:\n",
    "    print(\"平\")\n",
    "else:\n",
    "    print(\"差\")\n"
   ]
  },
  {
   "cell_type": "markdown",
   "metadata": {},
   "source": [
    "## 多路分支 \n",
    "- 很多分支的情况，简称多路分支\n",
    "\n",
    "\n",
    "        if 条件表达式：\n",
    "            语句1\n",
    "            ......\n",
    "        elif 条件表达式：\n",
    "            语句1\n",
    "            ......\n",
    "        elif 条件表达式：\n",
    "            语句1\n",
    "            ......\n",
    "            .\n",
    "            .\n",
    "            .\n",
    "        else:\n",
    "            语句1\n",
    "            ......\n",
    "            \n",
    "- elif可以有多个\n",
    "- else 可选\n",
    "- 多路分支只会选一个执行"
   ]
  },
  {
   "cell_type": "markdown",
   "metadata": {},
   "source": [
    "## if 语句其他：\n",
    "- if语句可以嵌套使用，但不推荐\n",
    "- Python没有switch...case语句"
   ]
  },
  {
   "cell_type": "markdown",
   "metadata": {},
   "source": [
    "# 循环语句\n",
    "- 重复执行某些固定的动作或者处理基本固定的事物\n",
    "- 分类\n",
    "    - for 循环\n",
    "    - while 循环\n",
    "## for 循环\n",
    "- for 循环\n",
    "\n",
    "        for 变量 in 序列:\n",
    "            语句1\n",
    "            语句2\n",
    "            ...."
   ]
  },
  {
   "cell_type": "code",
   "execution_count": 115,
   "metadata": {},
   "outputs": [
    {
     "name": "stdout",
     "output_type": "stream",
     "text": [
      "zhangsan\n",
      "lisi\n",
      "wangwu\n",
      "jingjing\n"
     ]
    }
   ],
   "source": [
    "#列表 就是一列数字或者其他的值，一般用中括号表示\n",
    "#[\"zhangsan\",\"lisi\",\"wangwu\",\"jingjing\"]\n",
    "#打印列表元素\n",
    "for name in [\"zhangsan\",\"lisi\",\"wangwu\",\"jingjing\"]:\n",
    "    print(name)"
   ]
  },
  {
   "cell_type": "code",
   "execution_count": 118,
   "metadata": {},
   "outputs": [
    {
     "name": "stdout",
     "output_type": "stream",
     "text": [
      "zhangsan\n",
      "lisi\n",
      "wangwu\n",
      "ok\n",
      "jingjing\n"
     ]
    }
   ],
   "source": [
    "#打印列表元素\n",
    "for name in [\"zhangsan\",\"lisi\",\"wangwu\",\"jingjing\"]:\n",
    "    if name == \"jingjing\":\n",
    "        print(\"ok\")\n",
    "    print(name)"
   ]
  },
  {
   "cell_type": "markdown",
   "metadata": {},
   "source": [
    "## range 介绍\n",
    "- 生成一个数字序列\n",
    "- 具体范围可以设定"
   ]
  },
  {
   "cell_type": "code",
   "execution_count": 120,
   "metadata": {
    "scrolled": true
   },
   "outputs": [
    {
     "name": "stdout",
     "output_type": "stream",
     "text": [
      "1\n",
      "2\n",
      "3\n",
      "4\n",
      "5\n",
      "6\n",
      "7\n",
      "8\n",
      "9\n"
     ]
    }
   ],
   "source": [
    "#range练习\n",
    "#打印从1-10的数字\n",
    "#注意，一般在Python中，如果由表示数字范围的两个数，一般是包含左边数字不包含右边数字\n",
    "#randint是特例，他左右都包含\n",
    "#range函数在Python2和Python3中有严重区别，\n",
    "for i in range(1,10):\n",
    "    print(i)"
   ]
  },
  {
   "cell_type": "markdown",
   "metadata": {},
   "source": [
    "## for-else 语句\n",
    "- 当for循环结束时，会执行else语句\n",
    "- else语句是可选的"
   ]
  },
  {
   "cell_type": "code",
   "execution_count": 126,
   "metadata": {},
   "outputs": [
    {
     "name": "stdout",
     "output_type": "stream",
     "text": [
      "name => zhangsan\n",
      "no\n",
      "name => lisi\n",
      "yes\n",
      "name => wangwu\n",
      "no\n",
      "name => jingjing\n",
      "no\n",
      "end\n"
     ]
    }
   ],
   "source": [
    "#for-eles语句\n",
    "#打印列表中元素\n",
    "#如果没有在列表中或者列表结束，要打提升语句\n",
    "for name in [\"zhangsan\",\"lisi\",\"wangwu\",\"jingjing\"]:\n",
    "    print(\"name => {0}\".format(name))\n",
    "    if name != \"lisi\":\n",
    "        print(\"no\")\n",
    "    else:\n",
    "        print(\"yes\")\n",
    "else:\n",
    "    print (\"end\")"
   ]
  },
  {
   "cell_type": "markdown",
   "metadata": {},
   "source": [
    "## 循环之break, continue,pass\n",
    "- break:无条件结束整个循环,简称循环猝死\n",
    "- continue ：无条件结束本次循环，重新进入下一轮循环\n",
    "- pass 表示路过"
   ]
  },
  {
   "cell_type": "code",
   "execution_count": 131,
   "metadata": {},
   "outputs": [
    {
     "name": "stdout",
     "output_type": "stream",
     "text": [
      "1\n",
      "2\n",
      "3\n",
      "4\n",
      "5\n",
      "6\n"
     ]
    }
   ],
   "source": [
    "# 在1-10的数字中，如果找数字7\n",
    "#for循环中的变量，一般用i,k,m,n,或者index ,idx, item之类\n",
    "#在Python中，如果循环变量名称不重要，可以用下划线代替\n",
    "#例：\n",
    "#for _ in range(1,11):\n",
    "#   print(\"a\");\n",
    "for i in range(1,11):\n",
    "    if i == 7:\n",
    "        break\n",
    "    else:\n",
    "        print(i)\n"
   ]
  },
  {
   "cell_type": "code",
   "execution_count": 140,
   "metadata": {},
   "outputs": [
    {
     "name": "stdout",
     "output_type": "stream",
     "text": [
      "2\n",
      "4\n",
      "6\n",
      "8\n",
      "10\n"
     ]
    }
   ],
   "source": [
    "for i in range(1,11):\n",
    "    if i % 2 == 1:\n",
    "        continue\n",
    "    print (i)\n",
    "   "
   ]
  },
  {
   "cell_type": "code",
   "execution_count": 141,
   "metadata": {},
   "outputs": [],
   "source": [
    "#pass 例子 ，一般用于占位\n",
    "#pass 没有跳过功能，就是占用\n",
    "for i in range(1,11):\n",
    "    pass"
   ]
  }
 ],
 "metadata": {
  "kernelspec": {
   "display_name": "Python 3",
   "language": "python",
   "name": "python3"
  },
  "language_info": {
   "codemirror_mode": {
    "name": "ipython",
    "version": 3
   },
   "file_extension": ".py",
   "mimetype": "text/x-python",
   "name": "python",
   "nbconvert_exporter": "python",
   "pygments_lexer": "ipython3",
   "version": "3.7.1"
  }
 },
 "nbformat": 4,
 "nbformat_minor": 2
}
